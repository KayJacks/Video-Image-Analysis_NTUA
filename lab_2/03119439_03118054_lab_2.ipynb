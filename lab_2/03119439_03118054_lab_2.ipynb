{
  "cells": [
    {
      "cell_type": "markdown",
      "metadata": {
        "id": "LpnEVMCYYlnD"
      },
      "source": [
        "#2η ομαδική εργασία στη Τεχνολογία και Ανάλυση Εικόνων και Βίντεο"
      ]
    },
    {
      "cell_type": "markdown",
      "metadata": {
        "id": "c6sGj7sNEI7c"
      },
      "source": [
        "**ΘΕΩΡΗΤΙΚΟ ΜΕΡΟΣ**"
      ]
    },
    {
      "cell_type": "markdown",
      "metadata": {
        "id": "jipxUNgyGYEn"
      },
      "source": [
        "1. Παρουσιάστε ένα συγκριτικό πίνακα με τα επίπεδα, το μέγεθος των φίλτρων, συνάρτηση\n",
        "ενεργοποίησης, πλήθος παραμέτρων και τεχνικές pooling και dropout που χρησιμοποιούν\n",
        "τα 3 διαφορετικά δίκτυα που παρουσιάζονται στα προαναφερθέντα άρθρα.\n",
        "2. Ποιες είναι οι βασικές διαφορές στην αρχιτεκτονική και την απόδοση μεταξύ των τριών\n",
        "δικτύων;\n"
      ]
    },
    {
      "cell_type": "markdown",
      "metadata": {
        "id": "65gmqLCRMxnl"
      },
      "source": [
        "1. \n",
        "Layers:\n",
        "Inside parenthesis is the number of feature maps (ConvLayers) or the number of neurons (FC layers)\n",
        "<ul>\n",
        "  <li> LeNet: ConvLayer (4) (H1) -> Pooling (H2) -> ConvLayer (12) (H3) -> Pooling (H4) -> Dense Layer (FC) with 10 outputs (εάν και βλέπουμε και υλοποιήσεις με 3 FC (FC (120) -> FC (84) -> FC (10)) </li>\n",
        "  <li> AlexNet:  ConvLayer (96) (1st) -> Pooling -> ConvLayer (256) (2ond) -> Pooling -> ConvLayer (384) (3rd) -> ConvLayer (384) (4th) -> ConvLayer (256) (5th) -> FC (4096) -> FC (4096) -> FC (10) (softmax) </li>\n",
        "  <li> VGG (θα παρουσιάσουμε τη λογική με τα περισσότερα layers (19 + 5 pooling layers + 1 softmax) καθώς όλα τα υπόλοιπα αποτελούν υποσύνολο αυτού): 2xConvLayer (64) -> Pooling -> 2xConvLayer (128) -> Pooling -> 4xConvLayer (256) -> Pooling -> 4xConvLayer (512) -> Pooling -> 4xConvLayer (512) -> 3xFC layer (FC (4096) -> FC (4096) -> FC (1000)) -> Softmax </li>\n",
        "</ul>\n",
        "\n",
        "Kernel size:\n",
        "<ul>\n",
        "  <li> LeNet: Constant 5x5 kernel size </li>\n",
        "  <li> AlexNet: 1st ConvLayer - 11x11, 2ond ConvLayer - 5x5, 3rd-4th-5th ConvLayer - 3x3 </li>\n",
        "  <li> VGG: Constant 3x3 kernel size (in case of C CNN also uses 1x1 kernel size as a linear transformation of the input channels (followed by non-linearity)) </li>\n",
        "</ul>\n",
        "\n",
        "Activation Function:\n",
        "<ul>\n",
        "  <li> LeNet: Sigmoid </li>\n",
        "  <li> AlexNet: ReLU </li>\n",
        "  <li> VGG: ReLU </li>\n",
        "</ul>\n",
        "\n",
        "Number of parameters:\n",
        "<ul>\n",
        "  <li> LeNet: 2578 independent parameters </li>  \n",
        "  <li> AlexNet: 60 million parameters </li>\n",
        "  <li> VGG (in millions): 11 layers (A, A-LRN)  - 133, 13 layers (B) 133, 16 (C) layers  134, 16 layers (D) 138, 19 layers (E) 144\n",
        "</ul>\n",
        "\n",
        "Pooling and Dropout methdos:\n",
        "<ul>\n",
        "  <li> LeNet: Average Pooling (stride = 2, pool_size = 2), no Dropout </li>\n",
        "  <li> AlexNet: Max Pooling (stride = 2, pool_size = 2), Dropout(prob = 0.5) </li>\n",
        "  <li> VGG: Max Pooling (stride = 2, pool_size = 2), Dropout(prob = 0.5) </li>\n",
        "</ul>\n",
        "\n",
        "2.\n",
        "Μπορούμε να παρατηρήσουμε αρκετές διαφορές μεταξύ των 3 δικτύων. Ποιο συγκεκριμένα το LeNet είναι ένα αρκετά απλό CNN (περιορισμός που υπήρξε λόγω του μη ανεπτυγμένου hardware, αλλά και του περιορισμένου dataset), πάνω στην αναγνώριση handwritten digits σε εικόνες, αλλά είχε τη μεγαλύτερη συνεισφορά: την εισαγωγή της έννοιας του CNN. \n",
        "\n",
        "Ωστόσο πιο πολύ νόημα έχει να σχολιάσουμε τα άλλα 2 CNN. Όσον αφορά το AlexNet ένας παράγοντας που σίγουρα συνέβαλε στην επίτευξη καλύτερων accuracy είναι το ανεπτυγμένο hardware (GPUs) που βοήθησε στην εκπαίδευση του CNN πιο γρήγορα (που σημαίνει περισσότερη μελέτη -> καλύτερες επιδόσεις (συνήθως)). Επίσης ένας άλλος παράγοντας είναι η ReLU που βοήθησε να αποφευχθούν προβλήματα όπως ανέφερα παραπάνω καθώς και στην γρηγορότερη εκπαίδευση του νευρωνικού. Ακόμα, το max pooling επιτάχυνε την εκπαίδευση των νευρωνικών. Όλα τα παραπάνω επέτρεψαν το να χρησιμοποιηθούν περισσότερα layers στο AlexNet, 8 για την ακρίβεια, (άρα μπορεί να προσομοιώσει πιο περίεργες μη γραμικές συναρτήσεις), γεγονός που το καθιστά πιο περίπλοκο με πολύ καλύτερες επιδόσεις (επίσης χρησιμοποιήθηκε και το dropout στα FC layers προκειμένου να αποφευχθεί το overfitting). Τέλος όσων αφορά το VGG εισήγαγαν την έννοια των VGG blocks (sequential ConvLayers και τέλος ένα max pooling layer). Επιπροσθέτως στο CNN αυτό δώσανε τη περισσότερη σημασία στο depth του και κάνανε διάφορες δοκιμές με διαφορετικά depths. Σε αντίθεση με το AlexNet χρησιμοποίησαν σταθερού μεγέθους kernel (=3x3) και έκαναν δοκιμές μέχρι και με 19 layers depth (σε αντίθεση με τα 8 του AlexNet), γενονός που επέτρεψε πάρα πολύ καλά accuracies, καλύτερα από κάθε άλλο προηγούμενο μοντέλο. Ωστόσο, ότι ανέφερα στο AlexNet χρησιμοποιήθηκε και εδώ (πχ max pooling, ReLU και Dropout).\n",
        "\n",
        "Τέλος, ακόμα ένας υπερβολικά σημαντικός παράγοντας (τόσο σε AlexNet όσο και στο VGG) είναι ότι αναπτύχθηκαν τεράστια (σε σχέση με τα προηγούμενα) datasets εικόνων (πχ ImageNet) που βοήθησαν σε πολύ μεγάλο να επιτευχθούν πολύ καλές αποδόσεις.\n",
        "\n",
        "\n"
      ]
    },
    {
      "cell_type": "markdown",
      "metadata": {
        "id": "DfEMjsB4Yurm"
      },
      "source": [
        "## Εισαγωγή και επισκόπηση του συνόλου δεδομένων"
      ]
    },
    {
      "cell_type": "code",
      "execution_count": null,
      "metadata": {
        "id": "STXQMBuN3nZ6"
      },
      "outputs": [],
      "source": [
        "from __future__ import absolute_import, division, print_function, unicode_literals # legacy compatibility\n",
        "\n",
        "import numpy as np\n",
        "import pandas as pd\n",
        "import matplotlib.pyplot as plt\n",
        "\n",
        "import tensorflow as tf\n",
        "\n",
        "from tensorflow.keras import datasets, layers, models"
      ]
    },
    {
      "cell_type": "code",
      "execution_count": null,
      "metadata": {
        "id": "2WSEGPI9Q7tW"
      },
      "outputs": [],
      "source": [
        "# helper functions\n",
        "\n",
        "# select from from_list elements with index in index_list\n",
        "def select_from_list(from_list, index_list):\n",
        "  filtered_list= [from_list[i] for i in index_list]\n",
        "  return(filtered_list)\n",
        "\n",
        "# append in filtered_list the index of each element of unfilterd_list if it exists in in target_list\n",
        "def get_ds_index(unfiliterd_list, target_list):\n",
        "  index = 0\n",
        "  filtered_list=[]\n",
        "  for i_ in unfiliterd_list:\n",
        "    if i_[0] in target_list:\n",
        "      filtered_list.append(index)\n",
        "    index += 1\n",
        "  return(filtered_list)\n"
      ]
    },
    {
      "cell_type": "code",
      "execution_count": null,
      "metadata": {
        "id": "OCW71UaGzz0Q",
        "colab": {
          "base_uri": "https://localhost:8080/"
        },
        "outputId": "2184e3b8-40d9-42f2-b646-6b3ac838095e"
      },
      "outputs": [
        {
          "output_type": "stream",
          "name": "stdout",
          "text": [
            "Downloading data from https://www.cs.toronto.edu/~kriz/cifar-100-python.tar.gz\n",
            "169001437/169001437 [==============================] - 6s 0us/step\n"
          ]
        }
      ],
      "source": [
        "(x_train_all, y_train_all), (x_test_all, y_test_all) = tf.keras.datasets.cifar100.load_data(label_mode='fine')"
      ]
    },
    {
      "cell_type": "code",
      "execution_count": null,
      "metadata": {
        "colab": {
          "base_uri": "https://localhost:8080/"
        },
        "id": "kGKYHffEE1do",
        "outputId": "ff8d88cd-d47a-46c3-cdeb-53ca45919632"
      },
      "outputs": [
        {
          "output_type": "stream",
          "name": "stdout",
          "text": [
            "(50000, 32, 32, 3)\n"
          ]
        }
      ],
      "source": [
        "print(x_train_all.shape)"
      ]
    },
    {
      "cell_type": "markdown",
      "metadata": {
        "id": "9PO9wIwYUf0R"
      },
      "source": [
        "Η κάθε ομάδα θα δουλέψει με διαφορετικό υποσύνολο του dataset.\n",
        "Στο επόμενο κελί, αντικαταστήστε την τιμή της μεταβλητής `team_seed` με τον αριθμό που αντιστοιχεί στην ομάδας σας. "
      ]
    },
    {
      "cell_type": "code",
      "execution_count": null,
      "metadata": {
        "id": "NN0kEze7uZ_G"
      },
      "outputs": [],
      "source": [
        "# REPLACE WITH YOUR TEAM NUMBER\n",
        "team_seed = 30"
      ]
    },
    {
      "cell_type": "code",
      "execution_count": null,
      "metadata": {
        "id": "RhbZJW6PxUDJ"
      },
      "outputs": [],
      "source": [
        "# select from CIFAR100 20 classes\n",
        "cifar100_classes_url = \"https://pastebin.com/raw/nzE1n98V\""
      ]
    },
    {
      "cell_type": "markdown",
      "metadata": {
        "id": "yO9f6wb0Wi0H"
      },
      "source": [
        "Δημιουργούμε το μοναδικό dataset της ομάδας μας:"
      ]
    },
    {
      "cell_type": "code",
      "execution_count": null,
      "metadata": {
        "id": "PgIN2h_KuCp_"
      },
      "outputs": [],
      "source": [
        "team_classes = pd.read_csv(cifar100_classes_url, sep=',', header=None)\n",
        "CIFAR100_LABELS_LIST = pd.read_csv('https://pastebin.com/raw/qgDaNggt', sep=',', header=None).astype(str).values.tolist()[0]\n",
        "\n",
        "our_index = team_classes.iloc[team_seed,:].values.tolist()\n",
        "our_classes = select_from_list(CIFAR100_LABELS_LIST, our_index)\n",
        "train_index = get_ds_index(y_train_all, our_index)\n",
        "test_index = get_ds_index(y_test_all, our_index)\n",
        "\n",
        "x_train_ds = np.asarray(select_from_list(x_train_all, train_index))\n",
        "y_train_ds = np.asarray(select_from_list(y_train_all, train_index))\n",
        "x_test_ds = np.asarray(select_from_list(x_test_all, test_index))\n",
        "y_test_ds = np.asarray(select_from_list(y_test_all, test_index))"
      ]
    },
    {
      "cell_type": "code",
      "execution_count": null,
      "metadata": {
        "colab": {
          "base_uri": "https://localhost:8080/"
        },
        "id": "_B4-tvVOQq3j",
        "outputId": "22881b91-34c3-48d0-862b-9402af202a45"
      },
      "outputs": [
        {
          "output_type": "stream",
          "name": "stdout",
          "text": [
            "[' beaver', ' bee', ' bottle', ' camel', ' clock', ' crab', ' kangaroo', ' lamp', ' lizard', ' mountain', ' oak_tree', ' palm_tree', ' poppy', ' rocket', ' shark', ' skyscraper', ' squirrel', ' streetcar', ' sweet_pepper', ' tiger']\n",
            "[ 0  1  2  3  4  5  6  7  8  9 10 11 12 13 14 15 16 17 18 19]\n"
          ]
        }
      ],
      "source": [
        "# print our classes\n",
        "print(our_classes)\n",
        "our_labels = np.arange(0, 20)\n",
        "print(our_labels)"
      ]
    },
    {
      "cell_type": "code",
      "execution_count": null,
      "metadata": {
        "colab": {
          "base_uri": "https://localhost:8080/"
        },
        "id": "bk5wy0u7GGMj",
        "outputId": "8679eef0-e1ab-4466-e7c1-2b45ee55f004"
      },
      "outputs": [
        {
          "output_type": "stream",
          "name": "stdout",
          "text": [
            "(32, 32, 3)\n"
          ]
        }
      ],
      "source": [
        "print(x_train_ds[1].shape)"
      ]
    },
    {
      "cell_type": "code",
      "execution_count": null,
      "metadata": {
        "colab": {
          "base_uri": "https://localhost:8080/",
          "height": 597
        },
        "id": "QpGXgTs_5ZCk",
        "outputId": "c0423251-179f-46b4-d96e-ef3f62f4550a"
      },
      "outputs": [
        {
          "output_type": "stream",
          "name": "stdout",
          "text": [
            "Train: X=(8500, 32, 32, 3), y=(8500, 1)\n",
            "Validation: X=(1500, 32, 32, 3), y=(1500, 1)\n",
            "Test: X=(2000, 32, 32, 3), y=(2000, 1)\n"
          ]
        },
        {
          "output_type": "display_data",
          "data": {
            "text/plain": [
              "<Figure size 600x600 with 9 Axes>"
            ],
            "image/png": "[encoded data removed]"
          },
          "metadata": {}
        }
      ],
      "source": [
        "# get (train) dataset dimensions\n",
        "data_size, img_rows, img_cols, img_channels = x_train_ds.shape\n",
        "\n",
        "# set validation set percentage (wrt the training set size)\n",
        "validation_percentage = 0.15\n",
        "val_size = round(validation_percentage * data_size)\n",
        "\n",
        "# Reserve val_size samples for validation and normalize all values\n",
        "x_val = x_train_ds[-val_size:]/255\n",
        "y_val = y_train_ds[-val_size:]\n",
        "x_train = x_train_ds[:-val_size]/255\n",
        "y_train = y_train_ds[:-val_size]\n",
        "x_test = x_test_ds/255\n",
        "y_test = y_test_ds\n",
        "\n",
        "# summarize loaded dataset\n",
        "print('Train: X=%s, y=%s' % (x_train.shape, y_train.shape))\n",
        "print('Validation: X=%s, y=%s' % (x_val.shape, y_val.shape))\n",
        "print('Test: X=%s, y=%s' % (x_test.shape, y_test.shape))\n",
        "\n",
        "# get class label from class index\n",
        "def class_label_from_index(fine_category):\n",
        "  return(CIFAR100_LABELS_LIST[fine_category.item(0)])\n",
        "\n",
        "# plot first few images\n",
        "plt.figure(figsize=(6, 6))\n",
        "for i in range(9):\n",
        "\t# define subplot\n",
        "  plt.subplot(330 + 1 + i).set_title(class_label_from_index(y_train[i]))\n",
        "\t# plot raw pixel data\n",
        "  plt.imshow(x_train[i], cmap=plt.get_cmap('gray'))\n",
        "  #show the figure\n",
        "plt.show()"
      ]
    },
    {
      "cell_type": "code",
      "execution_count": null,
      "metadata": {
        "id": "quuFtUum9DGs"
      },
      "outputs": [],
      "source": [
        "def mapping(array,di): \n",
        "    return [di[array[x][0]] for x in range(array.shape[0])]\n",
        "\n",
        "def dict_mapp(array):\n",
        "    dictionary = {}\n",
        "    i = 0\n",
        "    for j in range(array.shape[0]):\n",
        "        if array[j][0] not in dictionary.keys():\n",
        "            dictionary[array[j][0]] = i\n",
        "            i+=1\n",
        "    return dictionary\n"
      ]
    },
    {
      "cell_type": "code",
      "execution_count": null,
      "metadata": {
        "colab": {
          "base_uri": "https://localhost:8080/"
        },
        "id": "IAV5NE_SC9J7",
        "outputId": "12d08609-eb95-4175-a8b5-cf8b0cd49f29"
      },
      "outputs": [
        {
          "output_type": "stream",
          "name": "stdout",
          "text": [
            "{80: 0, 52: 1, 22: 2, 81: 3, 49: 4, 56: 5, 76: 6, 73: 7, 9: 8, 6: 9, 83: 10, 15: 11, 38: 12, 69: 13, 4: 14, 88: 15, 62: 16, 40: 17, 26: 18, 44: 19}\n",
            "<class 'numpy.ndarray'>\n",
            "[ 4 11  3 ... 10  1 10]\n"
          ]
        }
      ],
      "source": [
        "#normilize our label_values to 0->19\n",
        "label_dictionary = dict_mapp(y_train)\n",
        "print(label_dictionary)\n",
        "\n",
        "y_train_1 = np.array(mapping(y_train, label_dictionary))\n",
        "y_val_1 = np.array(mapping(y_val, label_dictionary))\n",
        "y_test_1 = np.array(mapping(y_test, label_dictionary))\n",
        "print(type(y_test_1))\n",
        "print(y_test_1)"
      ]
    },
    {
      "cell_type": "markdown",
      "metadata": {
        "id": "iAgowxR8oJH7"
      },
      "source": [
        "## Ερώτημα 1\n",
        "---\n",
        "#### Βήμα 1: Σχεδίαση, μεταγλώττιση και εκπαίδευση των μοντέλων\n",
        "\n",
        " 1. Σχεδίαστε, μεταγλωττίστε και εκπαιδεύστε τα μοντέλα  **LeNet, AlexNet και  VGG**, καθώς και ένα δικό σας μοντέλο (ονομάστε το π.χ. **MyCNN**) χρησιμοποιώντας διαφορετικούς συνδυασμούς (τουλάχιστον 2 ανά μοντέλο) για [optimizer](https://keras.io/api/optimizers/), [loss](https://keras.io/api/losses/), batch size και epoch.  Για [metrics](https://keras.io/api/metrics/) να χρησιμοποιήσετε την ορθότητα - accuracy (όπως στο Lab5).\n",
        "---\n",
        "  \n",
        "#### Βήμα 2: Αξιολόγηση των μοντέλων\n",
        "\n",
        "1. Για κάθε ένα από τα μοντέλα που εκπαιδεύσατε, απεικονίστε σε κοινό διάγραμμα την ορθότητα εκπαίδευσης και την ορθότητα επικύρωσης στο σύνολο των εποχών, για κάθε διαφορετικό συνδυασμό του βήματος 1 και επιλέξτε αυτό με την καλύτερη ορθότητα από κάθε μοντέλο (ένα από κάθε αρχιτεκτονική, συνολικά 4).\n",
        "2. Για κάθε ένα από τα μοντέλα με την καλύτερη ορθότητα (συνολικά **4**), απεικονίστε σε κοινό διάγραμμα την ορθότητα εκπαίδευσης και την ορθότητα επικύρωσης στο σύνολο των εποχών.\n",
        "3. Αξιολογήστε, αναλυτικά, τα αποτελέσματά σας ως προς τα εξής:\n",
        " - Επίδραση του πλήθους των δεδομένων/κλάσεων στην απόδοση του μοντέλου\n",
        " - Επίδραση του αλγόριθμου βελτιστοποίησης (optimizer)\n",
        " - Επίδραση του μεγέθους δέσμης (batch size)\n",
        " \n",
        "---\n",
        "\n",
        "#### Βήμα 3: Αξιολόγηση ορθότητας\n",
        "Αξιολογήστε την ορθότητα για το test set σας.\n"
      ]
    },
    {
      "cell_type": "markdown",
      "metadata": {
        "id": "8UQKV1pvMVA9"
      },
      "source": [
        "Αρχικά ορίζουμε τη συνάρτηση για plot."
      ]
    },
    {
      "cell_type": "code",
      "execution_count": null,
      "metadata": {
        "id": "fMWc_7OQMT1w"
      },
      "outputs": [],
      "source": [
        "def _plot(history,_cnn,  _num, _Optimizer, _batch_size, _epoc):\n",
        "  plt.subplot(4, 2,_num)\n",
        "  plt.plot(history.history['accuracy'], label='accuracy')\n",
        "  plt.plot(history.history['val_accuracy'], label = 'val_accuracy')\n",
        "  plt.xlabel('Epoch')\n",
        "  plt.ylabel('Accuracy')\n",
        "  plt.ylim([0, 1])\n",
        "  plt.legend(loc='lower right')\n",
        "  _title = _cnn+\", Optimizer: \" + _Optimizer+\", BatchSize = \"+ _batch_size + \", epochs = \" + _epoc\n",
        "  plt.title(_title,size=10)"
      ]
    },
    {
      "cell_type": "markdown",
      "metadata": {
        "id": "EKoTAl-7J8te"
      },
      "source": [
        "<h1> LeNet CNN </h1>"
      ]
    },
    {
      "cell_type": "code",
      "execution_count": null,
      "metadata": {
        "id": "ehxp-sGetWSk"
      },
      "outputs": [],
      "source": [
        "#LeNet architecture\n",
        "\n",
        "def LeNet():\n",
        "    model = tf.keras.models.Sequential()\n",
        "    model.add(tf.keras.layers.Conv2D(filters=6, kernel_size=5, activation='sigmoid',\n",
        "                               padding='same', input_shape=(32, 32, 3))) #LeNet input images have 28x28x3 size but we let the shape 32x32x3\n",
        "    model.add(tf.keras.layers.AvgPool2D(pool_size=2, strides=2))\n",
        "    model.add(tf.keras.layers.Conv2D(filters=16, kernel_size=5,\n",
        "                               activation='sigmoid'))\n",
        "    model.add(tf.keras.layers.AvgPool2D(pool_size=2, strides=2))\n",
        "    model.add(tf.keras.layers.Flatten())\n",
        "    model.add(tf.keras.layers.Dense(120, activation='sigmoid'))\n",
        "    model.add(tf.keras.layers.Dense(84, activation='sigmoid'))\n",
        "    model.add(tf.keras.layers.Dense(20))#, activation='softmax'))\n",
        "\n",
        "\n",
        "    return model\n",
        "# def LeNet():\n",
        "#     return tf.keras.models.Sequential([\n",
        "#         tf.keras.layers.Conv2D(filters=6, kernel_size=5, activation='sigmoid',\n",
        "#                                padding='same'),\n",
        "#         tf.keras.layers.AvgPool2D(pool_size=2, strides=2),\n",
        "#         tf.keras.layers.Conv2D(filters=16, kernel_size=5,\n",
        "#                                activation='sigmoid'),\n",
        "#         tf.keras.layers.AvgPool2D(pool_size=2, strides=2),\n",
        "#         tf.keras.layers.Flatten(),\n",
        "#         tf.keras.layers.Dense(120, activation='sigmoid'),\n",
        "#         tf.keras.layers.Dense(84, activation='sigmoid'),\n",
        "#         tf.keras.layers.Dense(10)])\n",
        "    \n",
        "LeNet_1 = LeNet()    \n",
        "\n"
      ]
    },
    {
      "cell_type": "markdown",
      "metadata": {
        "id": "kr3UjeQ7J3-1"
      },
      "source": [
        "<h2>Πείραμα 1ο </h2>\n",
        "<ul>\n",
        "  <li> optimizer = adam </li>\n",
        "  <li> epochs = 20 </li>\n",
        "  <li> batch size = 64 </li>\n",
        "  <li> loss function = cross entropy </li>\n",
        "</ul>  "
      ]
    },
    {
      "cell_type": "code",
      "execution_count": null,
      "metadata": {
        "colab": {
          "base_uri": "https://localhost:8080/"
        },
        "id": "MjiLtGlcJQls",
        "outputId": "c6be212e-0f86-4d79-ee0d-97e937ea6c17"
      },
      "outputs": [
        {
          "output_type": "stream",
          "name": "stdout",
          "text": [
            "Model: \"sequential\"\n",
            "_________________________________________________________________\n",
            " Layer (type)                Output Shape              Param #   \n",
            "=================================================================\n",
            " conv2d (Conv2D)             (None, 32, 32, 6)         456       \n",
            "                                                                 \n",
            " average_pooling2d (AverageP  (None, 16, 16, 6)        0         \n",
            " ooling2D)                                                       \n",
            "                                                                 \n",
            " conv2d_1 (Conv2D)           (None, 12, 12, 16)        2416      \n",
            "                                                                 \n",
            " average_pooling2d_1 (Averag  (None, 6, 6, 16)         0         \n",
            " ePooling2D)                                                     \n",
            "                                                                 \n",
            " flatten (Flatten)           (None, 576)               0         \n",
            "                                                                 \n",
            " dense (Dense)               (None, 120)               69240     \n",
            "                                                                 \n",
            " dense_1 (Dense)             (None, 84)                10164     \n",
            "                                                                 \n",
            " dense_2 (Dense)             (None, 20)                1700      \n",
            "                                                                 \n",
            "=================================================================\n",
            "Total params: 83,976\n",
            "Trainable params: 83,976\n",
            "Non-trainable params: 0\n",
            "_________________________________________________________________\n"
          ]
        }
      ],
      "source": [
        "LeNet_1.compile(optimizer='adam',\n",
        "              loss=tf.keras.losses.SparseCategoricalCrossentropy(from_logits=True),\n",
        "              metrics=['accuracy'])\n",
        "#summary\n",
        "LeNet_1.summary()   "
      ]
    },
    {
      "cell_type": "code",
      "execution_count": null,
      "metadata": {
        "colab": {
          "base_uri": "https://localhost:8080/"
        },
        "id": "MB1p5oICziNM",
        "outputId": "156788b6-4091-458b-b14d-f6230dd4714d"
      },
      "outputs": [
        {
          "output_type": "stream",
          "name": "stdout",
          "text": [
            "Epoch 1/20\n",
            "133/133 [==============================] - 12s 9ms/step - loss: 3.0079 - accuracy: 0.0506 - val_loss: 2.9960 - val_accuracy: 0.0587\n",
            "Epoch 2/20\n",
            "133/133 [==============================] - 1s 5ms/step - loss: 2.8143 - accuracy: 0.1134 - val_loss: 2.6906 - val_accuracy: 0.1187\n",
            "Epoch 3/20\n",
            "133/133 [==============================] - 1s 4ms/step - loss: 2.6184 - accuracy: 0.1507 - val_loss: 2.5847 - val_accuracy: 0.1740\n",
            "Epoch 4/20\n",
            "133/133 [==============================] - 1s 4ms/step - loss: 2.5450 - accuracy: 0.1780 - val_loss: 2.5510 - val_accuracy: 0.1807\n",
            "Epoch 5/20\n",
            "133/133 [==============================] - 1s 5ms/step - loss: 2.4760 - accuracy: 0.2033 - val_loss: 2.4924 - val_accuracy: 0.2113\n",
            "Epoch 6/20\n",
            "133/133 [==============================] - 1s 4ms/step - loss: 2.4282 - accuracy: 0.2189 - val_loss: 2.4610 - val_accuracy: 0.2060\n",
            "Epoch 7/20\n",
            "133/133 [==============================] - 1s 5ms/step - loss: 2.3767 - accuracy: 0.2386 - val_loss: 2.4029 - val_accuracy: 0.2347\n",
            "Epoch 8/20\n",
            "133/133 [==============================] - 1s 4ms/step - loss: 2.3238 - accuracy: 0.2649 - val_loss: 2.3464 - val_accuracy: 0.2620\n",
            "Epoch 9/20\n",
            "133/133 [==============================] - 1s 5ms/step - loss: 2.2859 - accuracy: 0.2707 - val_loss: 2.3151 - val_accuracy: 0.2813\n",
            "Epoch 10/20\n",
            "133/133 [==============================] - 1s 5ms/step - loss: 2.2428 - accuracy: 0.2953 - val_loss: 2.2965 - val_accuracy: 0.2720\n",
            "Epoch 11/20\n",
            "133/133 [==============================] - 1s 5ms/step - loss: 2.2072 - accuracy: 0.3079 - val_loss: 2.2735 - val_accuracy: 0.2927\n",
            "Epoch 12/20\n",
            "133/133 [==============================] - 1s 5ms/step - loss: 2.1771 - accuracy: 0.3188 - val_loss: 2.2396 - val_accuracy: 0.2927\n",
            "Epoch 13/20\n",
            "133/133 [==============================] - 1s 5ms/step - loss: 2.1501 - accuracy: 0.3228 - val_loss: 2.2280 - val_accuracy: 0.3040\n",
            "Epoch 14/20\n",
            "133/133 [==============================] - 1s 5ms/step - loss: 2.1140 - accuracy: 0.3419 - val_loss: 2.2118 - val_accuracy: 0.3087\n",
            "Epoch 15/20\n",
            "133/133 [==============================] - 1s 5ms/step - loss: 2.0914 - accuracy: 0.3459 - val_loss: 2.1966 - val_accuracy: 0.3027\n",
            "Epoch 16/20\n",
            "133/133 [==============================] - 1s 5ms/step - loss: 2.0736 - accuracy: 0.3478 - val_loss: 2.2127 - val_accuracy: 0.3187\n",
            "Epoch 17/20\n",
            "133/133 [==============================] - 1s 7ms/step - loss: 2.0529 - accuracy: 0.3599 - val_loss: 2.1697 - val_accuracy: 0.3260\n",
            "Epoch 18/20\n",
            "133/133 [==============================] - 1s 7ms/step - loss: 2.0329 - accuracy: 0.3611 - val_loss: 2.1673 - val_accuracy: 0.3193\n",
            "Epoch 19/20\n",
            "133/133 [==============================] - 1s 5ms/step - loss: 2.0180 - accuracy: 0.3658 - val_loss: 2.1569 - val_accuracy: 0.3307\n",
            "Epoch 20/20\n",
            "133/133 [==============================] - 1s 5ms/step - loss: 2.0017 - accuracy: 0.3716 - val_loss: 2.1442 - val_accuracy: 0.3320\n"
          ]
        }
      ],
      "source": [
        "#train model\n",
        "\n",
        "history_lenet_1 = LeNet_1.fit(x_train, y_train_1, epochs=20, batch_size=64,\n",
        "                    validation_data=(x_val, y_val_1))\n"
      ]
    },
    {
      "cell_type": "markdown",
      "metadata": {
        "id": "wEXGV1Reaf62"
      },
      "source": [
        "Χρησιμοποιώντας το softmax στο τελευταίο επίπεδο (και from_logits=False) παρατηρούμε ελαφρά μείωση του accuracy και για αυτό δεν το χρησιμοποιούμε."
      ]
    },
    {
      "cell_type": "markdown",
      "metadata": {
        "id": "_Fbjf_nzIsS0"
      },
      "source": [
        "Προσθετουμε Batch Normalization προκειμένου να αντιμετωπίσουμε προβλήματα οπως το gradient vanishing (που οφείλεται στη sigmoid). "
      ]
    },
    {
      "cell_type": "code",
      "execution_count": null,
      "metadata": {
        "id": "siMc3Zw9I27A"
      },
      "outputs": [],
      "source": [
        "#LeNet architecture \n",
        "\n",
        "def LeNet():\n",
        "    model = tf.keras.models.Sequential()\n",
        "    model.add(tf.keras.layers.Conv2D(filters=6, kernel_size=5, activation='sigmoid',\n",
        "                               padding='same', input_shape=(32, 32, 3)))\n",
        "    model.add(tf.keras.layers.BatchNormalization())\n",
        "    model.add(tf.keras.layers.AvgPool2D(pool_size=2, strides=2))\n",
        "    model.add(tf.keras.layers.Conv2D(filters=16, kernel_size=5,\n",
        "                               activation='sigmoid'))\n",
        "    model.add(tf.keras.layers.BatchNormalization())\n",
        "    model.add(tf.keras.layers.AvgPool2D(pool_size=2, strides=2))\n",
        "    model.add(tf.keras.layers.Flatten())\n",
        "    model.add(tf.keras.layers.Dense(120, activation='sigmoid'))\n",
        "    model.add(tf.keras.layers.BatchNormalization())\n",
        "    model.add(tf.keras.layers.Dense(84, activation='sigmoid'))\n",
        "    model.add(tf.keras.layers.BatchNormalization())\n",
        "    model.add(tf.keras.layers.Dense(20, activation='softmax')) #we add softmax activation function in last layer\n",
        "\n",
        "\n",
        "    return model\n",
        "    \n",
        "LeNet_1_1 = LeNet()    \n",
        "\n"
      ]
    },
    {
      "cell_type": "code",
      "execution_count": null,
      "metadata": {
        "colab": {
          "base_uri": "https://localhost:8080/"
        },
        "id": "bV7kAXl2JV7p",
        "outputId": "21b8cac0-2b86-433f-8c45-af6562a893a6"
      },
      "outputs": [
        {
          "output_type": "stream",
          "name": "stdout",
          "text": [
            "Model: \"sequential_1\"\n",
            "_________________________________________________________________\n",
            " Layer (type)                Output Shape              Param #   \n",
            "=================================================================\n",
            " conv2d_2 (Conv2D)           (None, 32, 32, 6)         456       \n",
            "                                                                 \n",
            " batch_normalization (BatchN  (None, 32, 32, 6)        24        \n",
            " ormalization)                                                   \n",
            "                                                                 \n",
            " average_pooling2d_2 (Averag  (None, 16, 16, 6)        0         \n",
            " ePooling2D)                                                     \n",
            "                                                                 \n",
            " conv2d_3 (Conv2D)           (None, 12, 12, 16)        2416      \n",
            "                                                                 \n",
            " batch_normalization_1 (Batc  (None, 12, 12, 16)       64        \n",
            " hNormalization)                                                 \n",
            "                                                                 \n",
            " average_pooling2d_3 (Averag  (None, 6, 6, 16)         0         \n",
            " ePooling2D)                                                     \n",
            "                                                                 \n",
            " flatten_1 (Flatten)         (None, 576)               0         \n",
            "                                                                 \n",
            " dense_3 (Dense)             (None, 120)               69240     \n",
            "                                                                 \n",
            " batch_normalization_2 (Batc  (None, 120)              480       \n",
            " hNormalization)                                                 \n",
            "                                                                 \n",
            " dense_4 (Dense)             (None, 84)                10164     \n",
            "                                                                 \n",
            " batch_normalization_3 (Batc  (None, 84)               336       \n",
            " hNormalization)                                                 \n",
            "                                                                 \n",
            " dense_5 (Dense)             (None, 20)                1700      \n",
            "                                                                 \n",
            "=================================================================\n",
            "Total params: 84,880\n",
            "Trainable params: 84,428\n",
            "Non-trainable params: 452\n",
            "_________________________________________________________________\n"
          ]
        }
      ],
      "source": [
        "LeNet_1_1.compile(optimizer='adam',\n",
        "              loss=tf.keras.losses.SparseCategoricalCrossentropy(from_logits=False), #logits = false because we use softmax in last layer\n",
        "              metrics=['accuracy'])\n",
        "\n",
        "#summary\n",
        "LeNet_1_1.summary()"
      ]
    },
    {
      "cell_type": "code",
      "execution_count": null,
      "metadata": {
        "colab": {
          "base_uri": "https://localhost:8080/"
        },
        "id": "dRgbLG4EI6sO",
        "outputId": "79f9e8d1-e53c-41db-8f05-4e6542f27a1b"
      },
      "outputs": [
        {
          "output_type": "stream",
          "name": "stdout",
          "text": [
            "Epoch 1/20\n",
            "133/133 [==============================] - 4s 8ms/step - loss: 2.3465 - accuracy: 0.3018 - val_loss: 3.0442 - val_accuracy: 0.0427\n",
            "Epoch 2/20\n",
            "133/133 [==============================] - 1s 6ms/step - loss: 1.9948 - accuracy: 0.3931 - val_loss: 2.9113 - val_accuracy: 0.0933\n",
            "Epoch 3/20\n",
            "133/133 [==============================] - 1s 7ms/step - loss: 1.8465 - accuracy: 0.4391 - val_loss: 2.4240 - val_accuracy: 0.2667\n",
            "Epoch 4/20\n",
            "133/133 [==============================] - 1s 6ms/step - loss: 1.7366 - accuracy: 0.4682 - val_loss: 2.0770 - val_accuracy: 0.3627\n",
            "Epoch 5/20\n",
            "133/133 [==============================] - 1s 6ms/step - loss: 1.6378 - accuracy: 0.4934 - val_loss: 1.9986 - val_accuracy: 0.4080\n",
            "Epoch 6/20\n",
            "133/133 [==============================] - 1s 6ms/step - loss: 1.5515 - accuracy: 0.5176 - val_loss: 1.9193 - val_accuracy: 0.4153\n",
            "Epoch 7/20\n",
            "133/133 [==============================] - 1s 10ms/step - loss: 1.4647 - accuracy: 0.5460 - val_loss: 1.8933 - val_accuracy: 0.4353\n",
            "Epoch 8/20\n",
            "133/133 [==============================] - 1s 9ms/step - loss: 1.3898 - accuracy: 0.5674 - val_loss: 1.9354 - val_accuracy: 0.4187\n",
            "Epoch 9/20\n",
            "133/133 [==============================] - 1s 6ms/step - loss: 1.3109 - accuracy: 0.5956 - val_loss: 1.9627 - val_accuracy: 0.4213\n",
            "Epoch 10/20\n",
            "133/133 [==============================] - 1s 7ms/step - loss: 1.2327 - accuracy: 0.6209 - val_loss: 1.9946 - val_accuracy: 0.4173\n",
            "Epoch 11/20\n",
            "133/133 [==============================] - 1s 6ms/step - loss: 1.1574 - accuracy: 0.6392 - val_loss: 2.0012 - val_accuracy: 0.4200\n",
            "Epoch 12/20\n",
            "133/133 [==============================] - 1s 7ms/step - loss: 1.0892 - accuracy: 0.6659 - val_loss: 1.9624 - val_accuracy: 0.4347\n",
            "Epoch 13/20\n",
            "133/133 [==============================] - 1s 6ms/step - loss: 1.0162 - accuracy: 0.6888 - val_loss: 2.0898 - val_accuracy: 0.4353\n",
            "Epoch 14/20\n",
            "133/133 [==============================] - 1s 6ms/step - loss: 0.9398 - accuracy: 0.7078 - val_loss: 2.0597 - val_accuracy: 0.4427\n",
            "Epoch 15/20\n",
            "133/133 [==============================] - 1s 6ms/step - loss: 0.8752 - accuracy: 0.7349 - val_loss: 2.1191 - val_accuracy: 0.4400\n",
            "Epoch 16/20\n",
            "133/133 [==============================] - 1s 7ms/step - loss: 0.7955 - accuracy: 0.7588 - val_loss: 2.2512 - val_accuracy: 0.4207\n",
            "Epoch 17/20\n",
            "133/133 [==============================] - 1s 6ms/step - loss: 0.7439 - accuracy: 0.7673 - val_loss: 2.2269 - val_accuracy: 0.4320\n",
            "Epoch 18/20\n",
            "133/133 [==============================] - 1s 7ms/step - loss: 0.6763 - accuracy: 0.7924 - val_loss: 2.3604 - val_accuracy: 0.4300\n",
            "Epoch 19/20\n",
            "133/133 [==============================] - 1s 7ms/step - loss: 0.6167 - accuracy: 0.8134 - val_loss: 2.4019 - val_accuracy: 0.4180\n",
            "Epoch 20/20\n",
            "133/133 [==============================] - 1s 9ms/step - loss: 0.5624 - accuracy: 0.8291 - val_loss: 2.4959 - val_accuracy: 0.4273\n"
          ]
        }
      ],
      "source": [
        "#train model\n",
        "\n",
        "history_lenet_1_1 = LeNet_1_1.fit(x_train, y_train_1, epochs=20, batch_size=64,\n",
        "                    validation_data=(x_val, y_val_1))\n"
      ]
    },
    {
      "cell_type": "markdown",
      "metadata": {
        "id": "c0mExQ52a3jm"
      },
      "source": [
        "Χρησιμοποιούμε το softmax (και from_logits = False) γιατί παρατηρούμε ελαφρά βελτίωση του accuracy στη περίπτωση αυτή."
      ]
    },
    {
      "cell_type": "markdown",
      "metadata": {
        "id": "1zTbMDDBJvS9"
      },
      "source": [
        "Παρατηρούμε προφανώς πολύ καλύτερα αποτελέσματα και για το λόγο αυτό χρησιμοποιούμε Batch Normalization στο 2ο πείραμα."
      ]
    },
    {
      "cell_type": "markdown",
      "metadata": {
        "id": "vkqUn7EPKl6z"
      },
      "source": [
        "<h2> Πείραμα 2ο </h2>\n",
        "<ul>\n",
        "  <li> optimizer = adagrad </li>\n",
        "  <li> epochs = 30 </li>\n",
        "  <li> batch size = 128 </li>\n",
        "  <li> loss function = cross entropy </li>\n",
        "</ul>  "
      ]
    },
    {
      "cell_type": "code",
      "execution_count": null,
      "metadata": {
        "id": "35-Ol7NHUXYa"
      },
      "outputs": [],
      "source": [
        "# def CatCrossEn_form(y, num_of_classes=20):\n",
        "#   ret = np.zeros((y.shape[0], num_of_classes))\n",
        "#   # print(y.shape)\n",
        "#   # print(ret.shape)\n",
        "#   for i in range(y.shape[0]):\n",
        "#     ret[i][y[i]] = 1\n",
        "#   return ret\n",
        "\n",
        "# y_train_2 = CatCrossEn_form(y_train_1)\n",
        "# y_test_2 = CatCrossEn_form(y_test_1)\n",
        "# y_val_2 = CatCrossEn_form(y_val_1)\n",
        "# print(y_train_2)   "
      ]
    },
    {
      "cell_type": "code",
      "execution_count": null,
      "metadata": {
        "colab": {
          "base_uri": "https://localhost:8080/"
        },
        "id": "s7dVK_2wKqRm",
        "outputId": "7c6bbb6a-6ef1-4534-d8ae-b07ca23888b1"
      },
      "outputs": [
        {
          "output_type": "stream",
          "name": "stdout",
          "text": [
            "Model: \"sequential_2\"\n",
            "_________________________________________________________________\n",
            " Layer (type)                Output Shape              Param #   \n",
            "=================================================================\n",
            " conv2d_4 (Conv2D)           (None, 32, 32, 6)         456       \n",
            "                                                                 \n",
            " batch_normalization_4 (Batc  (None, 32, 32, 6)        24        \n",
            " hNormalization)                                                 \n",
            "                                                                 \n",
            " average_pooling2d_4 (Averag  (None, 16, 16, 6)        0         \n",
            " ePooling2D)                                                     \n",
            "                                                                 \n",
            " conv2d_5 (Conv2D)           (None, 12, 12, 16)        2416      \n",
            "                                                                 \n",
            " batch_normalization_5 (Batc  (None, 12, 12, 16)       64        \n",
            " hNormalization)                                                 \n",
            "                                                                 \n",
            " average_pooling2d_5 (Averag  (None, 6, 6, 16)         0         \n",
            " ePooling2D)                                                     \n",
            "                                                                 \n",
            " flatten_2 (Flatten)         (None, 576)               0         \n",
            "                                                                 \n",
            " dense_6 (Dense)             (None, 120)               69240     \n",
            "                                                                 \n",
            " batch_normalization_6 (Batc  (None, 120)              480       \n",
            " hNormalization)                                                 \n",
            "                                                                 \n",
            " dense_7 (Dense)             (None, 84)                10164     \n",
            "                                                                 \n",
            " batch_normalization_7 (Batc  (None, 84)               336       \n",
            " hNormalization)                                                 \n",
            "                                                                 \n",
            " dense_8 (Dense)             (None, 20)                1700      \n",
            "                                                                 \n",
            "=================================================================\n",
            "Total params: 84,880\n",
            "Trainable params: 84,428\n",
            "Non-trainable params: 452\n",
            "_________________________________________________________________\n"
          ]
        }
      ],
      "source": [
        "LeNet_2 = LeNet()\n",
        "\n",
        "LeNet_2.compile(optimizer='adam',\n",
        "              loss=tf.keras.losses.SparseCategoricalCrossentropy(from_logits=False),\n",
        "              metrics=['accuracy'])\n",
        "\n",
        "#summary\n",
        "LeNet_2.summary()"
      ]
    },
    {
      "cell_type": "code",
      "execution_count": null,
      "metadata": {
        "colab": {
          "base_uri": "https://localhost:8080/"
        },
        "id": "LWGhpjxYKtIS",
        "outputId": "eb81e4ef-875d-422f-ba2e-e345f6af87b5"
      },
      "outputs": [
        {
          "output_type": "stream",
          "name": "stdout",
          "text": [
            "Epoch 1/30\n",
            "67/67 [==============================] - 4s 13ms/step - loss: 2.3346 - accuracy: 0.3073 - val_loss: 3.1075 - val_accuracy: 0.0533\n",
            "Epoch 2/30\n",
            "67/67 [==============================] - 1s 8ms/step - loss: 1.9968 - accuracy: 0.3933 - val_loss: 3.0453 - val_accuracy: 0.0533\n",
            "Epoch 3/30\n",
            "67/67 [==============================] - 1s 8ms/step - loss: 1.8594 - accuracy: 0.4369 - val_loss: 2.9993 - val_accuracy: 0.0533\n",
            "Epoch 4/30\n",
            "67/67 [==============================] - 1s 8ms/step - loss: 1.7472 - accuracy: 0.4614 - val_loss: 2.9070 - val_accuracy: 0.1060\n",
            "Epoch 5/30\n",
            "67/67 [==============================] - 1s 8ms/step - loss: 1.6565 - accuracy: 0.4899 - val_loss: 2.7561 - val_accuracy: 0.1407\n",
            "Epoch 6/30\n",
            "67/67 [==============================] - 0s 7ms/step - loss: 1.5813 - accuracy: 0.5187 - val_loss: 2.4483 - val_accuracy: 0.2380\n",
            "Epoch 7/30\n",
            "67/67 [==============================] - 1s 13ms/step - loss: 1.4959 - accuracy: 0.5378 - val_loss: 2.1458 - val_accuracy: 0.3273\n",
            "Epoch 8/30\n",
            "67/67 [==============================] - 1s 8ms/step - loss: 1.4400 - accuracy: 0.5536 - val_loss: 1.9942 - val_accuracy: 0.4073\n",
            "Epoch 9/30\n",
            "67/67 [==============================] - 1s 13ms/step - loss: 1.3762 - accuracy: 0.5751 - val_loss: 1.8713 - val_accuracy: 0.4293\n",
            "Epoch 10/30\n",
            "67/67 [==============================] - 1s 8ms/step - loss: 1.3020 - accuracy: 0.5955 - val_loss: 1.9128 - val_accuracy: 0.4253\n",
            "Epoch 11/30\n",
            "67/67 [==============================] - 1s 7ms/step - loss: 1.2417 - accuracy: 0.6168 - val_loss: 1.9847 - val_accuracy: 0.4140\n",
            "Epoch 12/30\n",
            "67/67 [==============================] - 1s 10ms/step - loss: 1.1719 - accuracy: 0.6342 - val_loss: 1.9678 - val_accuracy: 0.4427\n",
            "Epoch 13/30\n",
            "67/67 [==============================] - 1s 10ms/step - loss: 1.1130 - accuracy: 0.6536 - val_loss: 2.0148 - val_accuracy: 0.4260\n",
            "Epoch 14/30\n",
            "67/67 [==============================] - 1s 10ms/step - loss: 1.0582 - accuracy: 0.6725 - val_loss: 2.0311 - val_accuracy: 0.4300\n",
            "Epoch 15/30\n",
            "67/67 [==============================] - 1s 10ms/step - loss: 1.0024 - accuracy: 0.6893 - val_loss: 1.9700 - val_accuracy: 0.4400\n",
            "Epoch 16/30\n",
            "67/67 [==============================] - 1s 8ms/step - loss: 0.9302 - accuracy: 0.7175 - val_loss: 2.1055 - val_accuracy: 0.4340\n",
            "Epoch 17/30\n",
            "67/67 [==============================] - 1s 8ms/step - loss: 0.8778 - accuracy: 0.7313 - val_loss: 2.1094 - val_accuracy: 0.4360\n",
            "Epoch 18/30\n",
            "67/67 [==============================] - 1s 8ms/step - loss: 0.8190 - accuracy: 0.7481 - val_loss: 2.1025 - val_accuracy: 0.4447\n",
            "Epoch 19/30\n",
            "67/67 [==============================] - 1s 8ms/step - loss: 0.7550 - accuracy: 0.7689 - val_loss: 2.2343 - val_accuracy: 0.4273\n",
            "Epoch 20/30\n",
            "67/67 [==============================] - 0s 7ms/step - loss: 0.7036 - accuracy: 0.7878 - val_loss: 2.4485 - val_accuracy: 0.4113\n",
            "Epoch 21/30\n",
            "67/67 [==============================] - 0s 7ms/step - loss: 0.6612 - accuracy: 0.7967 - val_loss: 2.2744 - val_accuracy: 0.4313\n",
            "Epoch 22/30\n",
            "67/67 [==============================] - 1s 8ms/step - loss: 0.5964 - accuracy: 0.8214 - val_loss: 2.4423 - val_accuracy: 0.4207\n",
            "Epoch 23/30\n",
            "67/67 [==============================] - 1s 7ms/step - loss: 0.5492 - accuracy: 0.8351 - val_loss: 2.4312 - val_accuracy: 0.4167\n",
            "Epoch 24/30\n",
            "67/67 [==============================] - 1s 8ms/step - loss: 0.5138 - accuracy: 0.8471 - val_loss: 2.4686 - val_accuracy: 0.4280\n",
            "Epoch 25/30\n",
            "67/67 [==============================] - 1s 8ms/step - loss: 0.4805 - accuracy: 0.8567 - val_loss: 2.6113 - val_accuracy: 0.4160\n",
            "Epoch 26/30\n",
            "67/67 [==============================] - 1s 8ms/step - loss: 0.4317 - accuracy: 0.8705 - val_loss: 2.6827 - val_accuracy: 0.4247\n",
            "Epoch 27/30\n",
            "67/67 [==============================] - 0s 7ms/step - loss: 0.3742 - accuracy: 0.8921 - val_loss: 2.7583 - val_accuracy: 0.4033\n",
            "Epoch 28/30\n",
            "67/67 [==============================] - 0s 7ms/step - loss: 0.3560 - accuracy: 0.8991 - val_loss: 2.8391 - val_accuracy: 0.4087\n",
            "Epoch 29/30\n",
            "67/67 [==============================] - 0s 7ms/step - loss: 0.3118 - accuracy: 0.9179 - val_loss: 2.8910 - val_accuracy: 0.4027\n",
            "Epoch 30/30\n",
            "67/67 [==============================] - 0s 7ms/step - loss: 0.2770 - accuracy: 0.9273 - val_loss: 3.0712 - val_accuracy: 0.4080\n"
          ]
        }
      ],
      "source": [
        "#train model\n",
        "\n",
        "history_lenet_2 = LeNet_2.fit(x_train, y_train_1, epochs=30, batch_size=128,\n",
        "                    validation_data=(x_val, y_val_1))"
      ]
    },
    {
      "cell_type": "code",
      "execution_count": null,
      "metadata": {
        "colab": {
          "base_uri": "https://localhost:8080/",
          "height": 773
        },
        "id": "T2DUM0zhMQ7Y",
        "outputId": "e2e938ba-5943-430e-f41c-0a3e0b9c5e1e"
      },
      "outputs": [
        {
          "output_type": "display_data",
          "data": {
            "text/plain": [
              "<Figure size 2000x2000 with 3 Axes>"
            ],
            "image/png": "[encoded data removed]"
          },
          "metadata": {}
        }
      ],
      "source": [
        "#Παραθέτουμε σε μορφή διαγραμμάτων τα παραπάνω αποτελέσματα:\n",
        "plt.figure(figsize=(20, 20))\n",
        "_plot(history_lenet_1, 'LeNet_1', 1, 'adam', '64', '20')\n",
        "_plot(history_lenet_1_1, 'LeNet_1_BatchNorm', 2, 'adam', '64', '20')\n",
        "_plot(history_lenet_2, 'LeNet_2', 3, 'adagrad', \"128\", \"30\")"
      ]
    },
    {
      "cell_type": "code",
      "execution_count": null,
      "metadata": {
        "colab": {
          "base_uri": "https://localhost:8080/"
        },
        "id": "SGPA5ik6p6uO",
        "outputId": "e2faaf11-d0b3-48dd-d184-3de768f21544"
      },
      "outputs": [
        {
          "output_type": "stream",
          "name": "stdout",
          "text": [
            "LeNet_1\n",
            "loss_LeNet_1 = 2.091615676879883 accuracy_LeNet_1 = 0.3474999964237213\n",
            "LeNet_1_BatchNorm\n",
            "loss_LeNet_BatchNorm_1 = 2.489616870880127 accuracy_LeNet_BatchNorm_1 = 0.4230000078678131\n",
            "LeNet_2\n",
            "loss_LeNet_2 = 3.108962297439575 accuracy_LeNet_2 = 0.4059999883174896\n"
          ]
        }
      ],
      "source": [
        "#κανουμε evaluate στο test set\n",
        "print(\"LeNet_1\")\n",
        "loss_LeNet_1, accuracy_LeNet_1 = LeNet_1.evaluate(x_test, y_test_1, verbose = 0)\n",
        "print(\"loss_LeNet_1 =\", loss_LeNet_1, \"accuracy_LeNet_1 =\", accuracy_LeNet_1)\n",
        "\n",
        "print(\"LeNet_1_BatchNorm\")\n",
        "loss_LeNet_BatchNorm_1, accuracy_LeNet_BatchNorm_1 = LeNet_1_1.evaluate(x_test, y_test_1, verbose = 0)\n",
        "print(\"loss_LeNet_BatchNorm_1 =\", loss_LeNet_BatchNorm_1, \"accuracy_LeNet_BatchNorm_1 =\", accuracy_LeNet_BatchNorm_1)\n",
        "\n",
        "print(\"LeNet_2\")\n",
        "LeNet_2\n",
        "loss_LeNet_2, accuracy_LeNet_2 = LeNet_2.evaluate(x_test, y_test_1, verbose = 0)\n",
        "print(\"loss_LeNet_2 =\", loss_LeNet_2, \"accuracy_LeNet_2 =\", accuracy_LeNet_2)"
      ]
    },
    {
      "cell_type": "markdown",
      "metadata": {
        "id": "eZNTiSE7dUvf"
      },
      "source": [
        "<h1>AlexNet</h1>"
      ]
    },
    {
      "cell_type": "markdown",
      "metadata": {
        "id": "kBD8k-GGWAZw"
      },
      "source": [
        "Comment:\n",
        "\n",
        "Κανονικά θα έπρεπε να χρησιμοποιήσουμε φωτογραφιές μεγέθους 256x256x3 σύμφωνα με το paper και σύμφωνα με την υλοποίηση 224x224x4, αλλά επειδή το collab crasharei για τόσο μεγάλες φωτογραφίες (error message: you have used all RAM memory) θα χρησιμοποιήσουμε εικόνες μεγέθους 128x128x3"
      ]
    },
    {
      "cell_type": "code",
      "execution_count": null,
      "metadata": {
        "id": "GU98vHoJKWDk"
      },
      "outputs": [],
      "source": [
        "#AlexNet\n",
        "\n",
        "def AlexNet(softmax=None):\n",
        "  model = tf.keras.models.Sequential()\n",
        "  model.add(layers.experimental.preprocessing.Resizing(224, 224, interpolation=\"bicubic\", input_shape=x_train.shape[1:]))\n",
        "  model.add(layers.Conv2D(filters=96, kernel_size=11, strides=4,activation='relu',  input_shape=(224, 224, 3))) \n",
        "  model.add(layers.MaxPool2D(pool_size=3, strides=2))\n",
        "  model.add(layers.Conv2D(filters=256, kernel_size=5, padding='same',activation='relu'))\n",
        "  model.add(layers.MaxPool2D(pool_size=3, strides=2))\n",
        "  model.add(layers.Conv2D(filters=384, kernel_size=3, padding='same',activation='relu'))\n",
        "  model.add(layers.Conv2D(filters=384, kernel_size=3, padding='same',activation='relu'))\n",
        "  model.add(layers.Conv2D(filters=256, kernel_size=3, padding='same',activation='relu'))\n",
        "  model.add(layers.MaxPool2D(pool_size=3, strides=2))\n",
        "  model.add(layers.Flatten())\n",
        "  model.add(layers.Dense(4096, activation='relu'))\n",
        "  model.add(layers.Dropout(0.5))\n",
        "  model.add(layers.Dense(4096, activation='relu'))\n",
        "  model.add(layers.Dropout(0.5))\n",
        "  model.add(layers.Dense(20, activation=softmax))\n",
        "  return model\n",
        "\n",
        "AlexNet_1 = AlexNet() \n"
      ]
    },
    {
      "cell_type": "markdown",
      "metadata": {
        "id": "fKzYwfV3PHkJ"
      },
      "source": [
        "Πρέπει να κάνουμε resize τις εικόνες σε μέγεθος 128x128x3"
      ]
    },
    {
      "cell_type": "code",
      "execution_count": null,
      "metadata": {
        "id": "xb3Izas3PRqL"
      },
      "outputs": [],
      "source": [
        "# import cv2\n",
        "\n",
        "# x_train_resized = []\n",
        "# for i in range(x_train.shape[0]):\n",
        "#   x_train_resized.append(cv2.resize(x_train[i], (128,128), interpolation = cv2.INTER_CUBIC))\n",
        "\n",
        "# x_train_resized = np.array(x_train_resized)\n",
        "# print(x_train_resized.shape)"
      ]
    },
    {
      "cell_type": "code",
      "execution_count": null,
      "metadata": {
        "id": "mL3cdvdZWtTh"
      },
      "outputs": [],
      "source": [
        "# import cv2\n",
        "\n",
        "# x_val_resized = []\n",
        "# for i in range(x_val.shape[0]):\n",
        "#   x_val_resized.append(cv2.resize(x_val[i], (128,128), interpolation = cv2.INTER_CUBIC))\n",
        "\n",
        "# x_val_resized = np.array(x_val_resized)\n",
        "# print(x_val_resized.shape)"
      ]
    },
    {
      "cell_type": "code",
      "execution_count": null,
      "metadata": {
        "id": "XyVI2izAWt_e"
      },
      "outputs": [],
      "source": [
        "# import cv2\n",
        "\n",
        "# x_test_resized = []\n",
        "# for i in range(x_test.shape[0]):\n",
        "#   x_test_resized.append(cv2.resize(x_test[i], (128,128), interpolation = cv2.INTER_CUBIC))\n",
        "\n",
        "# x_test_resized = np.array(x_test_resized)\n",
        "# print(x_test_resized.shape)"
      ]
    },
    {
      "cell_type": "markdown",
      "metadata": {
        "id": "nJ5E-ATzXBNa"
      },
      "source": [
        "<h2>Πείραμα 1ο</h2>\n",
        "<ul>\n",
        "  <li> optimizer = adam </li>\n",
        "  <li> epochs = 30 </li>\n",
        "  <li> batch size = 256 </li>\n",
        "  <li> loss function = cross entropy </li>\n",
        "</ul> "
      ]
    },
    {
      "cell_type": "code",
      "execution_count": null,
      "metadata": {
        "colab": {
          "base_uri": "https://localhost:8080/"
        },
        "id": "lkofg0bFarwQ",
        "outputId": "8b810f1d-b84d-4514-f5b9-0ae5c671618e"
      },
      "outputs": [
        {
          "output_type": "stream",
          "name": "stdout",
          "text": [
            "Model: \"sequential_3\"\n",
            "_________________________________________________________________\n",
            " Layer (type)                Output Shape              Param #   \n",
            "=================================================================\n",
            " resizing (Resizing)         (None, 224, 224, 3)       0         \n",
            "                                                                 \n",
            " conv2d_6 (Conv2D)           (None, 54, 54, 96)        34944     \n",
            "                                                                 \n",
            " max_pooling2d (MaxPooling2D  (None, 26, 26, 96)       0         \n",
            " )                                                               \n",
            "                                                                 \n",
            " conv2d_7 (Conv2D)           (None, 26, 26, 256)       614656    \n",
            "                                                                 \n",
            " max_pooling2d_1 (MaxPooling  (None, 12, 12, 256)      0         \n",
            " 2D)                                                             \n",
            "                                                                 \n",
            " conv2d_8 (Conv2D)           (None, 12, 12, 384)       885120    \n",
            "                                                                 \n",
            " conv2d_9 (Conv2D)           (None, 12, 12, 384)       1327488   \n",
            "                                                                 \n",
            " conv2d_10 (Conv2D)          (None, 12, 12, 256)       884992    \n",
            "                                                                 \n",
            " max_pooling2d_2 (MaxPooling  (None, 5, 5, 256)        0         \n",
            " 2D)                                                             \n",
            "                                                                 \n",
            " flatten_3 (Flatten)         (None, 6400)              0         \n",
            "                                                                 \n",
            " dense_9 (Dense)             (None, 4096)              26218496  \n",
            "                                                                 \n",
            " dropout (Dropout)           (None, 4096)              0         \n",
            "                                                                 \n",
            " dense_10 (Dense)            (None, 4096)              16781312  \n",
            "                                                                 \n",
            " dropout_1 (Dropout)         (None, 4096)              0         \n",
            "                                                                 \n",
            " dense_11 (Dense)            (None, 20)                81940     \n",
            "                                                                 \n",
            "=================================================================\n",
            "Total params: 46,828,948\n",
            "Trainable params: 46,828,948\n",
            "Non-trainable params: 0\n",
            "_________________________________________________________________\n"
          ]
        }
      ],
      "source": [
        "AlexNet_1.compile(optimizer='adam',\n",
        "              loss=tf.keras.losses.SparseCategoricalCrossentropy(from_logits=True),\n",
        "              metrics=['accuracy'])\n",
        "#summary\n",
        "AlexNet_1.summary() "
      ]
    },
    {
      "cell_type": "code",
      "execution_count": null,
      "metadata": {
        "colab": {
          "base_uri": "https://localhost:8080/"
        },
        "id": "AjNYqxSqbkTG",
        "outputId": "cb4b598b-2cc0-45d3-be0a-a617b919a4ca"
      },
      "outputs": [
        {
          "output_type": "stream",
          "name": "stdout",
          "text": [
            "Epoch 1/30\n",
            "34/34 [==============================] - 25s 446ms/step - loss: 3.0784 - accuracy: 0.0591 - val_loss: 2.9968 - val_accuracy: 0.0460\n",
            "Epoch 2/30\n",
            "34/34 [==============================] - 9s 272ms/step - loss: 2.9680 - accuracy: 0.0755 - val_loss: 2.8648 - val_accuracy: 0.1033\n",
            "Epoch 3/30\n",
            "34/34 [==============================] - 9s 264ms/step - loss: 2.7912 - accuracy: 0.1422 - val_loss: 2.6774 - val_accuracy: 0.1707\n",
            "Epoch 4/30\n",
            "34/34 [==============================] - 10s 283ms/step - loss: 2.5125 - accuracy: 0.2093 - val_loss: 2.4390 - val_accuracy: 0.2147\n",
            "Epoch 5/30\n",
            "34/34 [==============================] - 9s 272ms/step - loss: 2.3594 - accuracy: 0.2527 - val_loss: 2.3106 - val_accuracy: 0.2640\n",
            "Epoch 6/30\n",
            "34/34 [==============================] - 9s 270ms/step - loss: 2.2245 - accuracy: 0.3002 - val_loss: 2.2910 - val_accuracy: 0.3060\n",
            "Epoch 7/30\n",
            "34/34 [==============================] - 9s 263ms/step - loss: 2.0723 - accuracy: 0.3516 - val_loss: 2.1176 - val_accuracy: 0.3433\n",
            "Epoch 8/30\n",
            "34/34 [==============================] - 9s 279ms/step - loss: 1.9816 - accuracy: 0.3779 - val_loss: 2.0893 - val_accuracy: 0.3480\n",
            "Epoch 9/30\n",
            "34/34 [==============================] - 9s 261ms/step - loss: 1.8908 - accuracy: 0.4120 - val_loss: 2.0288 - val_accuracy: 0.3740\n",
            "Epoch 10/30\n",
            "34/34 [==============================] - 9s 271ms/step - loss: 1.7725 - accuracy: 0.4408 - val_loss: 1.9749 - val_accuracy: 0.3953\n",
            "Epoch 11/30\n",
            "34/34 [==============================] - 9s 265ms/step - loss: 1.6865 - accuracy: 0.4715 - val_loss: 2.0141 - val_accuracy: 0.3920\n",
            "Epoch 12/30\n",
            "34/34 [==============================] - 10s 281ms/step - loss: 1.5828 - accuracy: 0.5084 - val_loss: 1.9602 - val_accuracy: 0.4060\n",
            "Epoch 13/30\n",
            "34/34 [==============================] - 9s 262ms/step - loss: 1.4563 - accuracy: 0.5322 - val_loss: 1.9901 - val_accuracy: 0.4160\n",
            "Epoch 14/30\n",
            "34/34 [==============================] - 9s 257ms/step - loss: 1.3302 - accuracy: 0.5800 - val_loss: 1.8652 - val_accuracy: 0.4353\n",
            "Epoch 15/30\n",
            "34/34 [==============================] - 9s 263ms/step - loss: 1.2523 - accuracy: 0.6015 - val_loss: 1.9699 - val_accuracy: 0.4447\n",
            "Epoch 16/30\n",
            "34/34 [==============================] - 9s 280ms/step - loss: 1.1316 - accuracy: 0.6367 - val_loss: 2.0833 - val_accuracy: 0.4393\n",
            "Epoch 17/30\n",
            "34/34 [==============================] - 9s 252ms/step - loss: 1.0200 - accuracy: 0.6693 - val_loss: 2.0427 - val_accuracy: 0.4560\n",
            "Epoch 18/30\n",
            "34/34 [==============================] - 9s 278ms/step - loss: 0.8756 - accuracy: 0.7142 - val_loss: 2.1482 - val_accuracy: 0.4567\n",
            "Epoch 19/30\n",
            "34/34 [==============================] - 9s 280ms/step - loss: 0.7778 - accuracy: 0.7456 - val_loss: 2.1587 - val_accuracy: 0.4393\n",
            "Epoch 20/30\n",
            "34/34 [==============================] - 9s 263ms/step - loss: 0.6889 - accuracy: 0.7792 - val_loss: 2.2617 - val_accuracy: 0.4720\n",
            "Epoch 21/30\n",
            "34/34 [==============================] - 9s 252ms/step - loss: 0.6117 - accuracy: 0.7968 - val_loss: 2.4634 - val_accuracy: 0.4660\n",
            "Epoch 22/30\n",
            "34/34 [==============================] - 9s 264ms/step - loss: 0.5240 - accuracy: 0.8349 - val_loss: 2.5600 - val_accuracy: 0.4547\n",
            "Epoch 23/30\n",
            "34/34 [==============================] - 9s 280ms/step - loss: 0.4909 - accuracy: 0.8413 - val_loss: 2.6441 - val_accuracy: 0.4607\n",
            "Epoch 24/30\n",
            "34/34 [==============================] - 9s 265ms/step - loss: 0.3919 - accuracy: 0.8729 - val_loss: 2.9275 - val_accuracy: 0.4593\n",
            "Epoch 25/30\n",
            "34/34 [==============================] - 9s 252ms/step - loss: 0.3491 - accuracy: 0.8831 - val_loss: 2.8904 - val_accuracy: 0.4453\n",
            "Epoch 26/30\n",
            "34/34 [==============================] - 9s 263ms/step - loss: 0.3542 - accuracy: 0.8875 - val_loss: 2.9333 - val_accuracy: 0.4647\n",
            "Epoch 27/30\n",
            "34/34 [==============================] - 9s 280ms/step - loss: 0.2929 - accuracy: 0.9036 - val_loss: 2.9377 - val_accuracy: 0.4573\n",
            "Epoch 28/30\n",
            "34/34 [==============================] - 9s 264ms/step - loss: 0.2377 - accuracy: 0.9234 - val_loss: 3.3664 - val_accuracy: 0.4593\n",
            "Epoch 29/30\n",
            "34/34 [==============================] - 9s 254ms/step - loss: 0.2691 - accuracy: 0.9162 - val_loss: 3.4684 - val_accuracy: 0.4673\n",
            "Epoch 30/30\n",
            "34/34 [==============================] - 9s 263ms/step - loss: 0.2247 - accuracy: 0.9294 - val_loss: 3.4849 - val_accuracy: 0.4640\n"
          ]
        }
      ],
      "source": [
        "history_alexnet_1 = AlexNet_1.fit(x_train, y_train_1, epochs=30, batch_size=256,\n",
        "                    validation_data=(x_val, y_val_1))"
      ]
    },
    {
      "cell_type": "markdown",
      "metadata": {
        "id": "5rBco7g520b_"
      },
      "source": [
        "<h2>Πείραμα 2ο</h2>\n",
        "<ul>\n",
        "  <li> optimizer = adam </li>\n",
        "  <li> epochs = 25 </li>\n",
        "  <li> batch size = 128 </li>\n",
        "  <li> loss function = cross entropy </li>\n",
        "</ul> \n",
        "\n",
        "Επίσης στο τελευταίο Layer έχουμε βάλει και softmax activation function."
      ]
    },
    {
      "cell_type": "code",
      "execution_count": null,
      "metadata": {
        "id": "e5dzkDvq0zlq"
      },
      "outputs": [],
      "source": [
        "AlexNet_2 = AlexNet()"
      ]
    },
    {
      "cell_type": "code",
      "execution_count": null,
      "metadata": {
        "colab": {
          "base_uri": "https://localhost:8080/"
        },
        "id": "jGq5PnNV0m9I",
        "outputId": "70b9d718-5db8-4d91-f671-a623285f3202"
      },
      "outputs": [
        {
          "output_type": "stream",
          "name": "stdout",
          "text": [
            "Model: \"sequential_4\"\n",
            "_________________________________________________________________\n",
            " Layer (type)                Output Shape              Param #   \n",
            "=================================================================\n",
            " resizing_1 (Resizing)       (None, 224, 224, 3)       0         \n",
            "                                                                 \n",
            " conv2d_11 (Conv2D)          (None, 54, 54, 96)        34944     \n",
            "                                                                 \n",
            " max_pooling2d_3 (MaxPooling  (None, 26, 26, 96)       0         \n",
            " 2D)                                                             \n",
            "                                                                 \n",
            " conv2d_12 (Conv2D)          (None, 26, 26, 256)       614656    \n",
            "                                                                 \n",
            " max_pooling2d_4 (MaxPooling  (None, 12, 12, 256)      0         \n",
            " 2D)                                                             \n",
            "                                                                 \n",
            " conv2d_13 (Conv2D)          (None, 12, 12, 384)       885120    \n",
            "                                                                 \n",
            " conv2d_14 (Conv2D)          (None, 12, 12, 384)       1327488   \n",
            "                                                                 \n",
            " conv2d_15 (Conv2D)          (None, 12, 12, 256)       884992    \n",
            "                                                                 \n",
            " max_pooling2d_5 (MaxPooling  (None, 5, 5, 256)        0         \n",
            " 2D)                                                             \n",
            "                                                                 \n",
            " flatten_4 (Flatten)         (None, 6400)              0         \n",
            "                                                                 \n",
            " dense_12 (Dense)            (None, 4096)              26218496  \n",
            "                                                                 \n",
            " dropout_2 (Dropout)         (None, 4096)              0         \n",
            "                                                                 \n",
            " dense_13 (Dense)            (None, 4096)              16781312  \n",
            "                                                                 \n",
            " dropout_3 (Dropout)         (None, 4096)              0         \n",
            "                                                                 \n",
            " dense_14 (Dense)            (None, 20)                81940     \n",
            "                                                                 \n",
            "=================================================================\n",
            "Total params: 46,828,948\n",
            "Trainable params: 46,828,948\n",
            "Non-trainable params: 0\n",
            "_________________________________________________________________\n"
          ]
        }
      ],
      "source": [
        "AlexNet_2.compile(optimizer='adam',\n",
        "              loss=tf.keras.losses.SparseCategoricalCrossentropy(from_logits=True),\n",
        "              metrics=['accuracy'])\n",
        "#summary\n",
        "AlexNet_2.summary() "
      ]
    },
    {
      "cell_type": "code",
      "execution_count": null,
      "metadata": {
        "colab": {
          "base_uri": "https://localhost:8080/"
        },
        "id": "6QmrYnDQ1TNG",
        "outputId": "1e1dc262-8344-4be4-8075-e69d7661ac55"
      },
      "outputs": [
        {
          "output_type": "stream",
          "name": "stdout",
          "text": [
            "Epoch 1/25\n",
            "67/67 [==============================] - 16s 148ms/step - loss: 3.0979 - accuracy: 0.0468 - val_loss: 2.9980 - val_accuracy: 0.0420\n",
            "Epoch 2/25\n",
            "67/67 [==============================] - 10s 143ms/step - loss: 2.9965 - accuracy: 0.0479 - val_loss: 2.9976 - val_accuracy: 0.0393\n",
            "Epoch 3/25\n",
            "67/67 [==============================] - 10s 148ms/step - loss: 2.9961 - accuracy: 0.0508 - val_loss: 2.9974 - val_accuracy: 0.0393\n",
            "Epoch 4/25\n",
            "67/67 [==============================] - 10s 143ms/step - loss: 2.9960 - accuracy: 0.0471 - val_loss: 2.9974 - val_accuracy: 0.0393\n",
            "Epoch 5/25\n",
            "67/67 [==============================] - 9s 129ms/step - loss: 2.9960 - accuracy: 0.0512 - val_loss: 2.9977 - val_accuracy: 0.0393\n",
            "Epoch 6/25\n",
            "67/67 [==============================] - 10s 142ms/step - loss: 2.9960 - accuracy: 0.0504 - val_loss: 2.9976 - val_accuracy: 0.0393\n",
            "Epoch 7/25\n",
            "67/67 [==============================] - 9s 141ms/step - loss: 2.9958 - accuracy: 0.0507 - val_loss: 2.9976 - val_accuracy: 0.0393\n",
            "Epoch 8/25\n",
            "67/67 [==============================] - 9s 134ms/step - loss: 2.9959 - accuracy: 0.0507 - val_loss: 2.9977 - val_accuracy: 0.0393\n",
            "Epoch 9/25\n",
            "67/67 [==============================] - 9s 128ms/step - loss: 2.9960 - accuracy: 0.0519 - val_loss: 2.9975 - val_accuracy: 0.0393\n",
            "Epoch 10/25\n",
            "67/67 [==============================] - 10s 142ms/step - loss: 2.9958 - accuracy: 0.0524 - val_loss: 2.9977 - val_accuracy: 0.0393\n",
            "Epoch 11/25\n",
            "67/67 [==============================] - 10s 143ms/step - loss: 2.9959 - accuracy: 0.0480 - val_loss: 2.9976 - val_accuracy: 0.0393\n",
            "Epoch 12/25\n",
            "67/67 [==============================] - 10s 143ms/step - loss: 2.9959 - accuracy: 0.0518 - val_loss: 2.9980 - val_accuracy: 0.0393\n",
            "Epoch 13/25\n",
            "67/67 [==============================] - 9s 136ms/step - loss: 2.9959 - accuracy: 0.0485 - val_loss: 2.9978 - val_accuracy: 0.0393\n",
            "Epoch 14/25\n",
            "67/67 [==============================] - 9s 131ms/step - loss: 2.9959 - accuracy: 0.0466 - val_loss: 2.9979 - val_accuracy: 0.0393\n",
            "Epoch 15/25\n",
            "67/67 [==============================] - 9s 134ms/step - loss: 2.9958 - accuracy: 0.0504 - val_loss: 2.9979 - val_accuracy: 0.0420\n",
            "Epoch 16/25\n",
            "67/67 [==============================] - 9s 134ms/step - loss: 2.9959 - accuracy: 0.0507 - val_loss: 2.9977 - val_accuracy: 0.0393\n",
            "Epoch 17/25\n",
            "67/67 [==============================] - 9s 127ms/step - loss: 2.9959 - accuracy: 0.0485 - val_loss: 2.9978 - val_accuracy: 0.0393\n",
            "Epoch 18/25\n",
            "67/67 [==============================] - 9s 134ms/step - loss: 2.9958 - accuracy: 0.0515 - val_loss: 2.9979 - val_accuracy: 0.0393\n",
            "Epoch 19/25\n",
            "67/67 [==============================] - 9s 134ms/step - loss: 2.9958 - accuracy: 0.0499 - val_loss: 2.9978 - val_accuracy: 0.0393\n",
            "Epoch 20/25\n",
            "67/67 [==============================] - 9s 133ms/step - loss: 2.9958 - accuracy: 0.0519 - val_loss: 2.9978 - val_accuracy: 0.0393\n",
            "Epoch 21/25\n",
            "67/67 [==============================] - 9s 129ms/step - loss: 2.9958 - accuracy: 0.0493 - val_loss: 2.9980 - val_accuracy: 0.0393\n",
            "Epoch 22/25\n",
            "67/67 [==============================] - 9s 133ms/step - loss: 2.9957 - accuracy: 0.0518 - val_loss: 2.9979 - val_accuracy: 0.0393\n",
            "Epoch 23/25\n",
            "67/67 [==============================] - 9s 142ms/step - loss: 2.9958 - accuracy: 0.0474 - val_loss: 2.9981 - val_accuracy: 0.0393\n",
            "Epoch 24/25\n",
            "67/67 [==============================] - 9s 136ms/step - loss: 2.9958 - accuracy: 0.0519 - val_loss: 2.9979 - val_accuracy: 0.0393\n",
            "Epoch 25/25\n",
            "67/67 [==============================] - 9s 138ms/step - loss: 2.9958 - accuracy: 0.0518 - val_loss: 2.9979 - val_accuracy: 0.0393\n"
          ]
        }
      ],
      "source": [
        "#train model\n",
        "\n",
        "history_alexnet_2 = AlexNet_2.fit(x_train, y_train_1, epochs=25, batch_size=128,\n",
        "                    validation_data=(x_val, y_val_1))"
      ]
    },
    {
      "cell_type": "markdown",
      "metadata": {
        "id": "Jf_-fYxlZN4v"
      },
      "source": [
        "<h3> Πειραματιζόμαστε χρησιμοποιώντας LeakyReLU με τα ίδια configuraitons όπως το </h3>"
      ]
    },
    {
      "cell_type": "code",
      "execution_count": null,
      "metadata": {
        "id": "E-jKUU6YZMuw"
      },
      "outputs": [],
      "source": [
        "def AlexNet_Leaky_ReLU(softmax=None):\n",
        "  model = tf.keras.models.Sequential()\n",
        "  model.add(layers.experimental.preprocessing.Resizing(224, 224, interpolation=\"bicubic\", input_shape=x_train.shape[1:]))\n",
        "  model.add(layers.Conv2D(filters=96, kernel_size=11, strides=4,  input_shape=(224, 224, 3))) \n",
        "  model.add(layers.LeakyReLU(alpha=0.2))  \n",
        "  model.add(layers.MaxPool2D(pool_size=3, strides=2))\n",
        "  model.add(layers.Conv2D(filters=256, kernel_size=5, padding='same'))\n",
        "  model.add(layers.LeakyReLU(alpha=0.2))          \n",
        "  model.add(layers.MaxPool2D(pool_size=3, strides=2))\n",
        "  model.add(layers.Conv2D(filters=384, kernel_size=3, padding='same'))\n",
        "  model.add(layers.LeakyReLU(alpha=0.1))          \n",
        "  model.add(layers.Conv2D(filters=384, kernel_size=3, padding='same'))\n",
        "  model.add(layers.LeakyReLU(alpha=0.1))          \n",
        "  model.add(layers.Conv2D(filters=256, kernel_size=3, padding='same'))\n",
        "  model.add(layers.LeakyReLU(alpha=0.1))          \n",
        "  model.add(layers.MaxPool2D(pool_size=3, strides=2))\n",
        "  model.add(layers.Flatten())\n",
        "  model.add(layers.Dense(4096))\n",
        "  model.add(layers.LeakyReLU(alpha=0.2))          \n",
        "  model.add(layers.Dropout(0.5))\n",
        "  model.add(layers.Dense(4096))\n",
        "  model.add(layers.LeakyReLU(alpha=0.2))          \n",
        "  model.add(layers.Dropout(0.5))\n",
        "  model.add(layers.Dense(20, activation=softmax))\n",
        "  return model\n",
        "\n",
        "AlexNet_Leaky = AlexNet_Leaky_ReLU(softmax='softmax') "
      ]
    },
    {
      "cell_type": "code",
      "execution_count": null,
      "metadata": {
        "colab": {
          "base_uri": "https://localhost:8080/"
        },
        "id": "SjzkXcigaLOC",
        "outputId": "3786e1ea-1903-4da7-b6bf-ba523868c7b5"
      },
      "outputs": [
        {
          "output_type": "stream",
          "name": "stdout",
          "text": [
            "Model: \"sequential_5\"\n",
            "_________________________________________________________________\n",
            " Layer (type)                Output Shape              Param #   \n",
            "=================================================================\n",
            " resizing_2 (Resizing)       (None, 224, 224, 3)       0         \n",
            "                                                                 \n",
            " conv2d_16 (Conv2D)          (None, 54, 54, 96)        34944     \n",
            "                                                                 \n",
            " leaky_re_lu (LeakyReLU)     (None, 54, 54, 96)        0         \n",
            "                                                                 \n",
            " max_pooling2d_6 (MaxPooling  (None, 26, 26, 96)       0         \n",
            " 2D)                                                             \n",
            "                                                                 \n",
            " conv2d_17 (Conv2D)          (None, 26, 26, 256)       614656    \n",
            "                                                                 \n",
            " leaky_re_lu_1 (LeakyReLU)   (None, 26, 26, 256)       0         \n",
            "                                                                 \n",
            " max_pooling2d_7 (MaxPooling  (None, 12, 12, 256)      0         \n",
            " 2D)                                                             \n",
            "                                                                 \n",
            " conv2d_18 (Conv2D)          (None, 12, 12, 384)       885120    \n",
            "                                                                 \n",
            " leaky_re_lu_2 (LeakyReLU)   (None, 12, 12, 384)       0         \n",
            "                                                                 \n",
            " conv2d_19 (Conv2D)          (None, 12, 12, 384)       1327488   \n",
            "                                                                 \n",
            " leaky_re_lu_3 (LeakyReLU)   (None, 12, 12, 384)       0         \n",
            "                                                                 \n",
            " conv2d_20 (Conv2D)          (None, 12, 12, 256)       884992    \n",
            "                                                                 \n",
            " leaky_re_lu_4 (LeakyReLU)   (None, 12, 12, 256)       0         \n",
            "                                                                 \n",
            " max_pooling2d_8 (MaxPooling  (None, 5, 5, 256)        0         \n",
            " 2D)                                                             \n",
            "                                                                 \n",
            " flatten_5 (Flatten)         (None, 6400)              0         \n",
            "                                                                 \n",
            " dense_15 (Dense)            (None, 4096)              26218496  \n",
            "                                                                 \n",
            " leaky_re_lu_5 (LeakyReLU)   (None, 4096)              0         \n",
            "                                                                 \n",
            " dropout_4 (Dropout)         (None, 4096)              0         \n",
            "                                                                 \n",
            " dense_16 (Dense)            (None, 4096)              16781312  \n",
            "                                                                 \n",
            " leaky_re_lu_6 (LeakyReLU)   (None, 4096)              0         \n",
            "                                                                 \n",
            " dropout_5 (Dropout)         (None, 4096)              0         \n",
            "                                                                 \n",
            " dense_17 (Dense)            (None, 20)                81940     \n",
            "                                                                 \n",
            "=================================================================\n",
            "Total params: 46,828,948\n",
            "Trainable params: 46,828,948\n",
            "Non-trainable params: 0\n",
            "_________________________________________________________________\n"
          ]
        }
      ],
      "source": [
        "AlexNet_Leaky.compile(optimizer='adam',\n",
        "              loss=tf.keras.losses.SparseCategoricalCrossentropy(from_logits=False),\n",
        "              metrics=['accuracy'])\n",
        "#summary\n",
        "AlexNet_Leaky.summary()"
      ]
    },
    {
      "cell_type": "code",
      "execution_count": null,
      "metadata": {
        "colab": {
          "base_uri": "https://localhost:8080/"
        },
        "id": "8wPIQDCQdLs8",
        "outputId": "a8b5d6cf-9996-4662-b3e4-b5731b0ffaa5"
      },
      "outputs": [
        {
          "output_type": "stream",
          "name": "stdout",
          "text": [
            "Epoch 1/30\n",
            "34/34 [==============================] - 20s 450ms/step - loss: 29.7127 - accuracy: 0.0542 - val_loss: 27.8239 - val_accuracy: 0.0500\n",
            "Epoch 2/30\n",
            "34/34 [==============================] - 10s 296ms/step - loss: 660.8945 - accuracy: 0.0526 - val_loss: 2011.9124 - val_accuracy: 0.0540\n",
            "Epoch 3/30\n",
            "34/34 [==============================] - 10s 298ms/step - loss: 5925.0103 - accuracy: 0.0526 - val_loss: 2828.6353 - val_accuracy: 0.0540\n",
            "Epoch 4/30\n",
            "34/34 [==============================] - 10s 299ms/step - loss: 4826.9287 - accuracy: 0.0580 - val_loss: 542.0034 - val_accuracy: 0.0393\n",
            "Epoch 5/30\n",
            "34/34 [==============================] - 10s 296ms/step - loss: 262.1129 - accuracy: 0.0626 - val_loss: 35.9837 - val_accuracy: 0.0587\n",
            "Epoch 6/30\n",
            "34/34 [==============================] - 10s 295ms/step - loss: 37.7998 - accuracy: 0.0741 - val_loss: 15.3795 - val_accuracy: 0.0947\n",
            "Epoch 7/30\n",
            "34/34 [==============================] - 10s 299ms/step - loss: 16.5483 - accuracy: 0.0861 - val_loss: 17.8529 - val_accuracy: 0.0947\n",
            "Epoch 8/30\n",
            "34/34 [==============================] - 10s 295ms/step - loss: 11.8297 - accuracy: 0.0926 - val_loss: 5.5791 - val_accuracy: 0.1087\n",
            "Epoch 9/30\n",
            "34/34 [==============================] - 10s 296ms/step - loss: 17.3451 - accuracy: 0.0816 - val_loss: 9.4465 - val_accuracy: 0.1133\n",
            "Epoch 10/30\n",
            "34/34 [==============================] - 10s 308ms/step - loss: 10.6753 - accuracy: 0.0867 - val_loss: 5.0851 - val_accuracy: 0.1140\n",
            "Epoch 11/30\n",
            "34/34 [==============================] - 10s 309ms/step - loss: 5.6771 - accuracy: 0.1101 - val_loss: 4.3938 - val_accuracy: 0.1340\n",
            "Epoch 12/30\n",
            "34/34 [==============================] - 10s 300ms/step - loss: 8.0740 - accuracy: 0.0909 - val_loss: 5.3005 - val_accuracy: 0.1173\n",
            "Epoch 13/30\n",
            "34/34 [==============================] - 10s 288ms/step - loss: 4.7384 - accuracy: 0.1169 - val_loss: 3.2653 - val_accuracy: 0.1633\n",
            "Epoch 14/30\n",
            "34/34 [==============================] - 10s 308ms/step - loss: 4.0651 - accuracy: 0.1224 - val_loss: 3.7216 - val_accuracy: 0.1453\n",
            "Epoch 15/30\n",
            "34/34 [==============================] - 10s 298ms/step - loss: 9.5043 - accuracy: 0.1000 - val_loss: 4.9276 - val_accuracy: 0.1220\n",
            "Epoch 16/30\n",
            "34/34 [==============================] - 10s 310ms/step - loss: 5.9089 - accuracy: 0.1032 - val_loss: 3.6649 - val_accuracy: 0.1693\n",
            "Epoch 17/30\n",
            "34/34 [==============================] - 10s 296ms/step - loss: 3.9780 - accuracy: 0.1245 - val_loss: 3.2588 - val_accuracy: 0.1473\n",
            "Epoch 18/30\n",
            "34/34 [==============================] - 10s 297ms/step - loss: 3.4765 - accuracy: 0.1371 - val_loss: 3.2231 - val_accuracy: 0.1613\n",
            "Epoch 19/30\n",
            "34/34 [==============================] - 10s 302ms/step - loss: 3.9541 - accuracy: 0.1248 - val_loss: 3.8073 - val_accuracy: 0.1253\n",
            "Epoch 20/30\n",
            "34/34 [==============================] - 10s 308ms/step - loss: 3.9864 - accuracy: 0.1224 - val_loss: 3.1499 - val_accuracy: 0.1907\n",
            "Epoch 21/30\n",
            "34/34 [==============================] - 10s 294ms/step - loss: 3.3059 - accuracy: 0.1392 - val_loss: 2.9808 - val_accuracy: 0.1853\n",
            "Epoch 22/30\n",
            "34/34 [==============================] - 10s 296ms/step - loss: 3.0904 - accuracy: 0.1568 - val_loss: 3.0402 - val_accuracy: 0.1673\n",
            "Epoch 23/30\n",
            "34/34 [==============================] - 10s 310ms/step - loss: 3.0722 - accuracy: 0.1588 - val_loss: 3.0902 - val_accuracy: 0.1640\n",
            "Epoch 24/30\n",
            "34/34 [==============================] - 10s 296ms/step - loss: 3.0687 - accuracy: 0.1581 - val_loss: 3.0214 - val_accuracy: 0.1700\n",
            "Epoch 25/30\n",
            "34/34 [==============================] - 10s 301ms/step - loss: 3.0703 - accuracy: 0.1615 - val_loss: 3.0278 - val_accuracy: 0.1680\n",
            "Epoch 26/30\n",
            "34/34 [==============================] - 10s 296ms/step - loss: 3.1021 - accuracy: 0.1602 - val_loss: 2.8673 - val_accuracy: 0.1960\n",
            "Epoch 27/30\n",
            "34/34 [==============================] - 10s 296ms/step - loss: 3.1758 - accuracy: 0.1496 - val_loss: 3.0280 - val_accuracy: 0.1680\n",
            "Epoch 28/30\n",
            "34/34 [==============================] - 10s 298ms/step - loss: 3.1495 - accuracy: 0.1580 - val_loss: 2.9527 - val_accuracy: 0.1947\n",
            "Epoch 29/30\n",
            "34/34 [==============================] - 10s 309ms/step - loss: 2.9541 - accuracy: 0.1668 - val_loss: 3.1382 - val_accuracy: 0.1327\n",
            "Epoch 30/30\n",
            "34/34 [==============================] - 10s 294ms/step - loss: 2.8904 - accuracy: 0.1784 - val_loss: 3.3639 - val_accuracy: 0.1407\n"
          ]
        }
      ],
      "source": [
        "history_AlexNet_Leaky = AlexNet_Leaky.fit(x_train, y_train_1, epochs=30, batch_size=256,\n",
        "                    validation_data=(x_val, y_val_1))"
      ]
    },
    {
      "cell_type": "code",
      "execution_count": null,
      "metadata": {
        "colab": {
          "base_uri": "https://localhost:8080/",
          "height": 772
        },
        "id": "Pbewu5jDJSQM",
        "outputId": "f20b50c5-d032-489e-cbac-f848243aaa7d"
      },
      "outputs": [
        {
          "output_type": "display_data",
          "data": {
            "text/plain": [
              "<Figure size 2000x2000 with 3 Axes>"
            ],
            "image/png": "[encoded data removed]"
          },
          "metadata": {}
        }
      ],
      "source": [
        "#Παραθέτουμε σε μορφή διαγραμμάτων τα παραπάνω αποτελέσματα:\n",
        "plt.figure(figsize=(20, 20))\n",
        "_plot(history_alexnet_1, 'AlexNet_1', 1, 'adam', '256', '30')\n",
        "_plot(history_alexnet_2, 'AlexNet_2', 2, 'adam', '128', '25')\n",
        "_plot(history_AlexNet_Leaky, 'AlexNet_LeakyReLU', 3, 'adagrad', \"256\", \"30\")"
      ]
    },
    {
      "cell_type": "code",
      "execution_count": null,
      "metadata": {
        "colab": {
          "base_uri": "https://localhost:8080/"
        },
        "id": "RMvsluzRrG0O",
        "outputId": "cbe968a9-db6a-41d1-93dc-5e5a7580d2c4"
      },
      "outputs": [
        {
          "output_type": "stream",
          "name": "stdout",
          "text": [
            "AlexNet_1\n",
            "63/63 [==============================] - 2s 24ms/step - loss: 3.1431 - accuracy: 0.4805\n",
            "loss_AlexNet_1 = 3.1430575847625732 accuracy_AlexNet_1 = 0.4805000126361847\n",
            "AlexNet_2\n",
            "63/63 [==============================] - 2s 26ms/step - loss: 2.9959 - accuracy: 0.0500\n",
            "loss_AlexNet_2 = 2.995903730392456 accuracy_AlexNet_2 = 0.05000000074505806\n",
            "AlexNet_Leaky\n",
            "63/63 [==============================] - 2s 26ms/step - loss: 3.1872 - accuracy: 0.1695\n",
            "loss_AlexNet_Leaky = 3.187201499938965 accuracy_AlexNet_Leaky = 0.16949999332427979\n"
          ]
        }
      ],
      "source": [
        "#κανουμε evaluate στο test set\n",
        "print(\"AlexNet_1\")\n",
        "loss_AlexNet_1, accuracy_AlexNet_1 = AlexNet_1.evaluate(x_test, y_test_1)\n",
        "print(\"loss_AlexNet_1 =\", loss_AlexNet_1, \"accuracy_AlexNet_1 =\", accuracy_AlexNet_1)\n",
        "\n",
        "print(\"AlexNet_2\")\n",
        "loss_AlexNet_2, accuracy_AlexNet_2 = AlexNet_2.evaluate(x_test, y_test_1)\n",
        "print(\"loss_AlexNet_2 =\", loss_AlexNet_2, \"accuracy_AlexNet_2 =\", accuracy_AlexNet_2)\n",
        "\n",
        "print(\"AlexNet_Leaky\")\n",
        "loss_AlexNet_Leaky, accuracy_AlexNet_Leaky = AlexNet_Leaky.evaluate(x_test, y_test_1)\n",
        "print(\"loss_AlexNet_Leaky =\", loss_AlexNet_Leaky, \"accuracy_AlexNet_Leaky =\", accuracy_AlexNet_Leaky)"
      ]
    },
    {
      "cell_type": "markdown",
      "metadata": {
        "id": "oqyN3KdrFV_u"
      },
      "source": [
        "<h3> Σχεδόν 0.6 accuracy στο test set! </h3>  "
      ]
    },
    {
      "cell_type": "markdown",
      "metadata": {
        "id": "umibbvMEFHfB"
      },
      "source": [
        "Παρατηρούμε ότι το ALexNet με LeakyReLU είναι πολύ consistent (δηλαδή αυξάνεται, από εάν σημείο και μετά, συνέχεια το val_accuracy, σε σχέση με όλα τα υπόλοιπα όπου από ένα σημείο και μετά κάνουν overfit και το accuracy στο validation test δεν αυξάνεται καθόλου και παραμένει σταθερό) και για το λόγω αυτό του δίνουμε μία δεύτερη ευκαιρία με περισότερες εποχές. Επίσης πέρα από το γεγονός ότι αυξάνεται συνέχεια το val_accuracy παρατηρούμε ότι ακολουθεί σε πολύ μεγάλο βαθμό το accuracy στο test set.\n",
        "\n",
        "Οι παραπάνω παρατηρήσεις είναι παρατηρήσιμες και από τα παραπάνω διαγράμματα! \n",
        "\n",
        "Τα παραπάνω δεν πιστεύουμε πως 'έτυχαν' γιατί σχεδόν όλες τις φορές που το τρέξαμε με LeakyReLU είχαμε πολύ παρόμοια συμπεριφορά και τις περισσότερες φορές καλύτερα accuracy. "
      ]
    },
    {
      "cell_type": "code",
      "execution_count": null,
      "metadata": {
        "id": "mve8tpR8Pe7k"
      },
      "outputs": [],
      "source": [
        "def AlexNet_Leaky_ReLU(softmax=None):\n",
        "  model = tf.keras.models.Sequential()\n",
        "  model.add(layers.experimental.preprocessing.Resizing(224, 224, interpolation=\"bicubic\", input_shape=x_train.shape[1:]))\n",
        "  model.add(layers.Conv2D(filters=96, kernel_size=11, strides=4,  input_shape=(224, 224, 3))) \n",
        "  model.add(layers.LeakyReLU(alpha=0.2))  \n",
        "  model.add(layers.MaxPool2D(pool_size=3, strides=2))\n",
        "  # layers.SpatialDropout2D(0.2)\n",
        "  model.add(layers.Dropout(0.2))\n",
        "  model.add(layers.Conv2D(filters=256, kernel_size=5, padding='same'))\n",
        "  model.add(layers.LeakyReLU(alpha=0.2))          \n",
        "  model.add(layers.MaxPool2D(pool_size=3, strides=2))\n",
        "  # layers.SpatialDropout2D(0.2)\n",
        "  model.add(layers.Dropout(0.2))\n",
        "  model.add(layers.Conv2D(filters=384, kernel_size=3, padding='same'))\n",
        "  model.add(layers.LeakyReLU(alpha=0.1))          \n",
        "  # layers.SpatialDropout2D(0.4)\n",
        "  model.add(layers.Dropout(0.3))\n",
        "  model.add(layers.Conv2D(filters=384, kernel_size=3, padding='same'))\n",
        "  model.add(layers.LeakyReLU(alpha=0.1))          \n",
        "  # layers.SpatialDropout2D(0.4)\n",
        "  model.add(layers.Dropout(0.3))\n",
        "  model.add(layers.Conv2D(filters=256, kernel_size=3, padding='same'))\n",
        "  model.add(layers.LeakyReLU(alpha=0.1))          \n",
        "  # layers.SpatialDropout2D(0.3)\n",
        "  model.add(layers.MaxPool2D(pool_size=3, strides=2))\n",
        "  # layers.SpatialDropout2D(0.4)\n",
        "  model.add(layers.Dropout(0.3))\n",
        "  model.add(layers.Flatten())\n",
        "  model.add(layers.Dense(4096))\n",
        "  model.add(layers.LeakyReLU(alpha=0.2))          \n",
        "  model.add(layers.Dropout(0.5))\n",
        "  model.add(layers.Dense(4096))\n",
        "  model.add(layers.LeakyReLU(alpha=0.2))          \n",
        "  model.add(layers.Dropout(0.5))\n",
        "  model.add(layers.Dense(20, activation=softmax))\n",
        "  return model"
      ]
    },
    {
      "cell_type": "code",
      "execution_count": null,
      "metadata": {
        "colab": {
          "base_uri": "https://localhost:8080/"
        },
        "id": "N381EW4YFkwe",
        "outputId": "a74d87cc-9bb8-4063-dd4c-0a0c805ff83b"
      },
      "outputs": [
        {
          "output_type": "stream",
          "name": "stdout",
          "text": [
            "Model: \"sequential_6\"\n",
            "_________________________________________________________________\n",
            " Layer (type)                Output Shape              Param #   \n",
            "=================================================================\n",
            " resizing_3 (Resizing)       (None, 224, 224, 3)       0         \n",
            "                                                                 \n",
            " conv2d_21 (Conv2D)          (None, 54, 54, 96)        34944     \n",
            "                                                                 \n",
            " leaky_re_lu_7 (LeakyReLU)   (None, 54, 54, 96)        0         \n",
            "                                                                 \n",
            " max_pooling2d_9 (MaxPooling  (None, 26, 26, 96)       0         \n",
            " 2D)                                                             \n",
            "                                                                 \n",
            " dropout_6 (Dropout)         (None, 26, 26, 96)        0         \n",
            "                                                                 \n",
            " conv2d_22 (Conv2D)          (None, 26, 26, 256)       614656    \n",
            "                                                                 \n",
            " leaky_re_lu_8 (LeakyReLU)   (None, 26, 26, 256)       0         \n",
            "                                                                 \n",
            " max_pooling2d_10 (MaxPoolin  (None, 12, 12, 256)      0         \n",
            " g2D)                                                            \n",
            "                                                                 \n",
            " dropout_7 (Dropout)         (None, 12, 12, 256)       0         \n",
            "                                                                 \n",
            " conv2d_23 (Conv2D)          (None, 12, 12, 384)       885120    \n",
            "                                                                 \n",
            " leaky_re_lu_9 (LeakyReLU)   (None, 12, 12, 384)       0         \n",
            "                                                                 \n",
            " dropout_8 (Dropout)         (None, 12, 12, 384)       0         \n",
            "                                                                 \n",
            " conv2d_24 (Conv2D)          (None, 12, 12, 384)       1327488   \n",
            "                                                                 \n",
            " leaky_re_lu_10 (LeakyReLU)  (None, 12, 12, 384)       0         \n",
            "                                                                 \n",
            " dropout_9 (Dropout)         (None, 12, 12, 384)       0         \n",
            "                                                                 \n",
            " conv2d_25 (Conv2D)          (None, 12, 12, 256)       884992    \n",
            "                                                                 \n",
            " leaky_re_lu_11 (LeakyReLU)  (None, 12, 12, 256)       0         \n",
            "                                                                 \n",
            " max_pooling2d_11 (MaxPoolin  (None, 5, 5, 256)        0         \n",
            " g2D)                                                            \n",
            "                                                                 \n",
            " dropout_10 (Dropout)        (None, 5, 5, 256)         0         \n",
            "                                                                 \n",
            " flatten_6 (Flatten)         (None, 6400)              0         \n",
            "                                                                 \n",
            " dense_18 (Dense)            (None, 4096)              26218496  \n",
            "                                                                 \n",
            " leaky_re_lu_12 (LeakyReLU)  (None, 4096)              0         \n",
            "                                                                 \n",
            " dropout_11 (Dropout)        (None, 4096)              0         \n",
            "                                                                 \n",
            " dense_19 (Dense)            (None, 4096)              16781312  \n",
            "                                                                 \n",
            " leaky_re_lu_13 (LeakyReLU)  (None, 4096)              0         \n",
            "                                                                 \n",
            " dropout_12 (Dropout)        (None, 4096)              0         \n",
            "                                                                 \n",
            " dense_20 (Dense)            (None, 20)                81940     \n",
            "                                                                 \n",
            "=================================================================\n",
            "Total params: 46,828,948\n",
            "Trainable params: 46,828,948\n",
            "Non-trainable params: 0\n",
            "_________________________________________________________________\n"
          ]
        }
      ],
      "source": [
        "from keras.callbacks import LearningRateScheduler\n",
        "import math\n",
        "\n",
        "def step_decay(epoch):\n",
        "   initial_lrate = 0.4\n",
        "   drop = 0.5\n",
        "   epochs_drop = 10.0\n",
        "   lrate = initial_lrate * math.pow(drop,  \n",
        "           math.floor((1+epoch)/epochs_drop))\n",
        "   return lrate\n",
        "lrate = LearningRateScheduler(step_decay)\n",
        "callback_list = [lrate]\n",
        "AlexNet_Leaky_ReLU_second_chance = AlexNet_Leaky_ReLU(softmax='softmax')\n",
        "# opt = tf.keras.optimizers.Adam(learning_rate=lrate)\n",
        "\n",
        "AlexNet_Leaky_ReLU_second_chance.compile(optimizer='adam',\n",
        "              loss=tf.keras.losses.SparseCategoricalCrossentropy(from_logits=False),\n",
        "              metrics=['accuracy'])\n",
        "#summary\n",
        "AlexNet_Leaky_ReLU_second_chance.summary()\n"
      ]
    },
    {
      "cell_type": "code",
      "execution_count": null,
      "metadata": {
        "colab": {
          "base_uri": "https://localhost:8080/"
        },
        "id": "IzX2VrbYFzLv",
        "outputId": "a9c3c7aa-9e42-4872-9e6b-23e574f1edab"
      },
      "outputs": [
        {
          "output_type": "stream",
          "name": "stdout",
          "text": [
            "Epoch 1/60\n",
            "34/34 [==============================] - 14s 339ms/step - loss: 24.5470 - accuracy: 0.0499 - val_loss: 43.3806 - val_accuracy: 0.0480\n",
            "Epoch 2/60\n",
            "34/34 [==============================] - 11s 326ms/step - loss: 63.5976 - accuracy: 0.0552 - val_loss: 107.0005 - val_accuracy: 0.0513\n",
            "Epoch 3/60\n",
            "34/34 [==============================] - 11s 327ms/step - loss: 15.8910 - accuracy: 0.0511 - val_loss: 85.7488 - val_accuracy: 0.0553\n",
            "Epoch 4/60\n",
            "34/34 [==============================] - 11s 338ms/step - loss: 4143.2871 - accuracy: 0.0522 - val_loss: 6631.6934 - val_accuracy: 0.0507\n",
            "Epoch 5/60\n",
            "34/34 [==============================] - 11s 324ms/step - loss: 12358.0156 - accuracy: 0.0509 - val_loss: 2216.1514 - val_accuracy: 0.0433\n",
            "Epoch 6/60\n",
            "34/34 [==============================] - 11s 329ms/step - loss: 749.2408 - accuracy: 0.0575 - val_loss: 636.3780 - val_accuracy: 0.0620\n",
            "Epoch 7/60\n",
            "34/34 [==============================] - 11s 316ms/step - loss: 71.6666 - accuracy: 0.0546 - val_loss: 417.9798 - val_accuracy: 0.0607\n",
            "Epoch 8/60\n",
            "34/34 [==============================] - 11s 322ms/step - loss: 30.3871 - accuracy: 0.0629 - val_loss: 255.6610 - val_accuracy: 0.0587\n",
            "Epoch 9/60\n",
            "34/34 [==============================] - 11s 336ms/step - loss: 23.5918 - accuracy: 0.0655 - val_loss: 275.7400 - val_accuracy: 0.0513\n",
            "Epoch 10/60\n",
            "34/34 [==============================] - 11s 325ms/step - loss: 19.7377 - accuracy: 0.0652 - val_loss: 337.4300 - val_accuracy: 0.0580\n",
            "Epoch 11/60\n",
            "34/34 [==============================] - 11s 336ms/step - loss: 16.9136 - accuracy: 0.0658 - val_loss: 155.0098 - val_accuracy: 0.0440\n",
            "Epoch 12/60\n",
            "34/34 [==============================] - 11s 336ms/step - loss: 13.3432 - accuracy: 0.0647 - val_loss: 311.0621 - val_accuracy: 0.0587\n",
            "Epoch 13/60\n",
            "34/34 [==============================] - 11s 337ms/step - loss: 12.1325 - accuracy: 0.0767 - val_loss: 371.0142 - val_accuracy: 0.0607\n",
            "Epoch 14/60\n",
            "34/34 [==============================] - 11s 324ms/step - loss: 10.9237 - accuracy: 0.0767 - val_loss: 338.6286 - val_accuracy: 0.0593\n",
            "Epoch 15/60\n",
            "34/34 [==============================] - 11s 334ms/step - loss: 11.5639 - accuracy: 0.0799 - val_loss: 171.5012 - val_accuracy: 0.0440\n",
            "Epoch 16/60\n",
            "34/34 [==============================] - 11s 338ms/step - loss: 10.4966 - accuracy: 0.0786 - val_loss: 302.0774 - val_accuracy: 0.0567\n",
            "Epoch 17/60\n",
            "34/34 [==============================] - 11s 326ms/step - loss: 8.8779 - accuracy: 0.0776 - val_loss: 559.6634 - val_accuracy: 0.0633\n",
            "Epoch 18/60\n",
            "34/34 [==============================] - 11s 327ms/step - loss: 8.3408 - accuracy: 0.0808 - val_loss: 390.0443 - val_accuracy: 0.0580\n",
            "Epoch 19/60\n",
            "34/34 [==============================] - 11s 329ms/step - loss: 7.8552 - accuracy: 0.0779 - val_loss: 466.6599 - val_accuracy: 0.0673\n",
            "Epoch 20/60\n",
            "34/34 [==============================] - 11s 319ms/step - loss: 7.2609 - accuracy: 0.0856 - val_loss: 894.0757 - val_accuracy: 0.0640\n",
            "Epoch 21/60\n",
            "34/34 [==============================] - 11s 323ms/step - loss: 7.0451 - accuracy: 0.0774 - val_loss: 303.9819 - val_accuracy: 0.0613\n",
            "Epoch 22/60\n",
            "34/34 [==============================] - 11s 324ms/step - loss: 6.4964 - accuracy: 0.0813 - val_loss: 1014.6334 - val_accuracy: 0.0620\n",
            "Epoch 23/60\n",
            "34/34 [==============================] - 11s 335ms/step - loss: 6.8254 - accuracy: 0.0811 - val_loss: 831.0605 - val_accuracy: 0.0620\n",
            "Epoch 24/60\n",
            "34/34 [==============================] - 11s 337ms/step - loss: 6.0182 - accuracy: 0.0813 - val_loss: 871.9584 - val_accuracy: 0.0620\n",
            "Epoch 25/60\n",
            "34/34 [==============================] - 11s 325ms/step - loss: 5.8504 - accuracy: 0.0868 - val_loss: 539.5274 - val_accuracy: 0.0640\n",
            "Epoch 26/60\n",
            "34/34 [==============================] - 11s 324ms/step - loss: 5.4566 - accuracy: 0.0894 - val_loss: 870.3415 - val_accuracy: 0.0620\n",
            "Epoch 27/60\n",
            "34/34 [==============================] - 11s 325ms/step - loss: 5.2318 - accuracy: 0.0794 - val_loss: 1265.6024 - val_accuracy: 0.0620\n",
            "Epoch 28/60\n",
            "34/34 [==============================] - 11s 324ms/step - loss: 7.6500 - accuracy: 0.0851 - val_loss: 160.6680 - val_accuracy: 0.0540\n",
            "Epoch 29/60\n",
            "34/34 [==============================] - 11s 327ms/step - loss: 6.1356 - accuracy: 0.0807 - val_loss: 427.5883 - val_accuracy: 0.0573\n",
            "Epoch 30/60\n",
            "34/34 [==============================] - 11s 330ms/step - loss: 5.1845 - accuracy: 0.0907 - val_loss: 799.3127 - val_accuracy: 0.0593\n",
            "Epoch 31/60\n",
            "34/34 [==============================] - 11s 333ms/step - loss: 4.7229 - accuracy: 0.0918 - val_loss: 732.5692 - val_accuracy: 0.0587\n",
            "Epoch 32/60\n",
            "34/34 [==============================] - 11s 337ms/step - loss: 4.4932 - accuracy: 0.0907 - val_loss: 949.7413 - val_accuracy: 0.0580\n",
            "Epoch 33/60\n",
            "34/34 [==============================] - 11s 325ms/step - loss: 4.4503 - accuracy: 0.0938 - val_loss: 1253.4183 - val_accuracy: 0.0600\n",
            "Epoch 34/60\n",
            "34/34 [==============================] - 11s 325ms/step - loss: 4.3954 - accuracy: 0.0908 - val_loss: 1305.4257 - val_accuracy: 0.0613\n",
            "Epoch 35/60\n",
            "34/34 [==============================] - 11s 323ms/step - loss: 4.3136 - accuracy: 0.0966 - val_loss: 876.3050 - val_accuracy: 0.0620\n",
            "Epoch 36/60\n",
            "34/34 [==============================] - 11s 324ms/step - loss: 4.1786 - accuracy: 0.0969 - val_loss: 1130.9009 - val_accuracy: 0.0647\n",
            "Epoch 37/60\n",
            "34/34 [==============================] - 11s 337ms/step - loss: 4.0812 - accuracy: 0.1002 - val_loss: 1064.0262 - val_accuracy: 0.0673\n",
            "Epoch 38/60\n",
            "34/34 [==============================] - 11s 336ms/step - loss: 4.0072 - accuracy: 0.0994 - val_loss: 1183.3071 - val_accuracy: 0.0647\n",
            "Epoch 39/60\n",
            "34/34 [==============================] - 11s 323ms/step - loss: 4.0582 - accuracy: 0.0961 - val_loss: 1809.4854 - val_accuracy: 0.0633\n",
            "Epoch 40/60\n",
            "34/34 [==============================] - 11s 326ms/step - loss: 5.2183 - accuracy: 0.0946 - val_loss: 580.9704 - val_accuracy: 0.0593\n",
            "Epoch 41/60\n",
            "34/34 [==============================] - 11s 319ms/step - loss: 4.2090 - accuracy: 0.0962 - val_loss: 1278.8035 - val_accuracy: 0.0673\n",
            "Epoch 42/60\n",
            "34/34 [==============================] - 11s 319ms/step - loss: 4.1905 - accuracy: 0.1005 - val_loss: 754.6159 - val_accuracy: 0.0640\n",
            "Epoch 43/60\n",
            "34/34 [==============================] - 11s 335ms/step - loss: 3.9631 - accuracy: 0.1036 - val_loss: 952.5074 - val_accuracy: 0.0693\n",
            "Epoch 44/60\n",
            "34/34 [==============================] - 11s 335ms/step - loss: 3.7523 - accuracy: 0.1156 - val_loss: 1176.5494 - val_accuracy: 0.0653\n",
            "Epoch 45/60\n",
            "34/34 [==============================] - 11s 323ms/step - loss: 3.7066 - accuracy: 0.1066 - val_loss: 646.6750 - val_accuracy: 0.0667\n",
            "Epoch 46/60\n",
            "34/34 [==============================] - 11s 323ms/step - loss: 3.6478 - accuracy: 0.1113 - val_loss: 1087.3422 - val_accuracy: 0.0633\n",
            "Epoch 47/60\n",
            "34/34 [==============================] - 11s 338ms/step - loss: 3.5443 - accuracy: 0.1101 - val_loss: 1077.5204 - val_accuracy: 0.0687\n",
            "Epoch 48/60\n",
            "34/34 [==============================] - 11s 324ms/step - loss: 3.5557 - accuracy: 0.1164 - val_loss: 1625.9503 - val_accuracy: 0.0673\n",
            "Epoch 49/60\n",
            "34/34 [==============================] - 11s 338ms/step - loss: 3.4880 - accuracy: 0.1121 - val_loss: 1313.8436 - val_accuracy: 0.0687\n",
            "Epoch 50/60\n",
            "34/34 [==============================] - 11s 322ms/step - loss: 3.4348 - accuracy: 0.1227 - val_loss: 1203.8435 - val_accuracy: 0.0693\n",
            "Epoch 51/60\n",
            "34/34 [==============================] - 11s 325ms/step - loss: 3.4357 - accuracy: 0.1209 - val_loss: 1317.8585 - val_accuracy: 0.0653\n",
            "Epoch 52/60\n",
            "34/34 [==============================] - 11s 328ms/step - loss: 3.3834 - accuracy: 0.1188 - val_loss: 1420.0930 - val_accuracy: 0.0653\n",
            "Epoch 53/60\n",
            "34/34 [==============================] - 11s 332ms/step - loss: 3.3322 - accuracy: 0.1289 - val_loss: 878.6649 - val_accuracy: 0.0727\n",
            "Epoch 54/60\n",
            "34/34 [==============================] - 11s 322ms/step - loss: 5.1203 - accuracy: 0.0974 - val_loss: 278.7861 - val_accuracy: 0.0467\n",
            "Epoch 55/60\n",
            "34/34 [==============================] - 11s 335ms/step - loss: 3.7281 - accuracy: 0.1164 - val_loss: 818.7957 - val_accuracy: 0.0647\n",
            "Epoch 56/60\n",
            "34/34 [==============================] - 11s 324ms/step - loss: 3.3117 - accuracy: 0.1300 - val_loss: 853.6683 - val_accuracy: 0.0687\n",
            "Epoch 57/60\n",
            "34/34 [==============================] - 11s 337ms/step - loss: 3.3014 - accuracy: 0.1276 - val_loss: 1027.0582 - val_accuracy: 0.0707\n",
            "Epoch 58/60\n",
            "34/34 [==============================] - 11s 337ms/step - loss: 3.2440 - accuracy: 0.1261 - val_loss: 878.4013 - val_accuracy: 0.0707\n",
            "Epoch 59/60\n",
            "34/34 [==============================] - 11s 323ms/step - loss: 3.1944 - accuracy: 0.1404 - val_loss: 1333.1938 - val_accuracy: 0.0660\n",
            "Epoch 60/60\n",
            "34/34 [==============================] - 11s 324ms/step - loss: 3.1606 - accuracy: 0.1328 - val_loss: 1196.5779 - val_accuracy: 0.0693\n"
          ]
        }
      ],
      "source": [
        "\n",
        "history_AlexNet_Leaky_ReLU_second_change = AlexNet_Leaky_ReLU_second_chance.fit(x_train, y_train_1, epochs=60, batch_size=256,\n",
        "                    validation_data=(x_val, y_val_1))"
      ]
    },
    {
      "cell_type": "markdown",
      "metadata": {
        "id": "Q3lXe1Hd-17P"
      },
      "source": [
        "Παρατηρούμε μία πολύ μική αύξηση σε σχέση με πριν, αλλά παρατηρώντας το history κάποια στιγμή έπιασε 0.61 ενώ επίσης όλα τα τελευταία προηγούμενα του τελευταίου αποτελέσματος παρατηρούμε πως είναι μεγαλύτερα του 0.5773 και για το λόγο αυτό μπορεί να πει κανείς πως θα παίρναμε πολύ καλά αποτελέσματα εάν κάπως μειώναμε το learing rate στις τελευταίες εποχές προκειμένου να συγκλίνει ακόμα καλύτερα. "
      ]
    },
    {
      "cell_type": "code",
      "execution_count": null,
      "metadata": {
        "colab": {
          "base_uri": "https://localhost:8080/",
          "height": 434
        },
        "id": "k3os0fRF912S",
        "outputId": "41e726a7-2e9b-4ea7-a61f-bafdac207b98"
      },
      "outputs": [
        {
          "output_type": "display_data",
          "data": {
            "text/plain": [
              "<Figure size 2000x2000 with 1 Axes>"
            ],
            "image/png": "[encoded data removed]"
          },
          "metadata": {}
        }
      ],
      "source": [
        "#Παραθέτουμε σε μορφή διαγραμμάτων τα παραπάνω αποτελέσματα:\n",
        "plt.figure(figsize=(20, 20))\n",
        "_plot(history_AlexNet_Leaky_ReLU_second_change, 'AlexNet_Leaky_ReLU_second_chance', 1, 'adam', '256', '30')"
      ]
    },
    {
      "cell_type": "code",
      "execution_count": null,
      "metadata": {
        "colab": {
          "base_uri": "https://localhost:8080/"
        },
        "id": "8Q5N1Hqh-X7V",
        "outputId": "30098ec9-815d-440d-c252-d03e4fab0b6d"
      },
      "outputs": [
        {
          "output_type": "stream",
          "name": "stdout",
          "text": [
            "AlexNet_Leaky_ReLU_second_chance\n",
            "63/63 [==============================] - 1s 23ms/step - loss: 1202.7683 - accuracy: 0.0645\n",
            "loss_AlexNet_Leaky_ReLU_second_chance = 1202.768310546875 accuracy_AlexNet_Leaky_ReLU_second_chance = 0.06449999660253525\n"
          ]
        }
      ],
      "source": [
        "#κανουμε evaluate στο test set\n",
        "print(\"AlexNet_Leaky_ReLU_second_chance\")\n",
        "loss_AlexNet_Leaky_ReLU_second_chance, accuracy_AlexNet_Leaky_ReLU_second_chance = AlexNet_Leaky_ReLU_second_chance.evaluate(x_test, y_test_1)\n",
        "print(\"loss_AlexNet_Leaky_ReLU_second_chance =\", loss_AlexNet_Leaky_ReLU_second_chance, \"accuracy_AlexNet_Leaky_ReLU_second_chance =\", accuracy_AlexNet_Leaky_ReLU_second_chance)"
      ]
    },
    {
      "cell_type": "markdown",
      "metadata": {
        "id": "KRjdKz-f_yqp"
      },
      "source": [
        "Επίσης παρατηρούμε μία μικρή αύξηση στο test set."
      ]
    },
    {
      "cell_type": "markdown",
      "metadata": {
        "id": "m12YgMCo0V50"
      },
      "source": [
        "<h1>VGG</h1> "
      ]
    },
    {
      "cell_type": "code",
      "execution_count": null,
      "metadata": {
        "id": "kD7kIan11caw"
      },
      "outputs": [],
      "source": [
        "def vgg_block(num_convs, num_channels):\n",
        "    blk = tf.keras.models.Sequential()\n",
        "    for _ in range(num_convs):\n",
        "        blk.add(\n",
        "            tf.keras.layers.Conv2D(num_channels, kernel_size=3,\n",
        "                                   padding='same', activation='relu'))\n",
        "        blk.add(layers.BatchNormalization())\n",
        "    blk.add(tf.keras.layers.MaxPool2D(pool_size=2, strides=2))\n",
        "    return blk\n"
      ]
    },
    {
      "cell_type": "code",
      "execution_count": null,
      "metadata": {
        "id": "Jgckj0T-15At"
      },
      "outputs": [],
      "source": [
        "conv_arch = ((1, 64), (1, 128), (2, 256), (2, 512), (2, 512))"
      ]
    },
    {
      "cell_type": "code",
      "execution_count": null,
      "metadata": {
        "id": "Yo36h6zS16TK"
      },
      "outputs": [],
      "source": [
        "def vgg(conv_arch, softmax=None):\n",
        "    net = tf.keras.models.Sequential()\n",
        "    net.add(layers.experimental.preprocessing.Resizing(224, 224, interpolation=\"bicubic\", input_shape=x_train.shape[1:]))\n",
        "    # The convulational part\n",
        "    for (num_convs, num_channels) in conv_arch:\n",
        "        net.add(vgg_block(num_convs, num_channels))\n",
        "    # The fully-connected part\n",
        "    net.add(\n",
        "        tf.keras.models.Sequential([\n",
        "            tf.keras.layers.Flatten(),\n",
        "            tf.keras.layers.Dense(4096, activation='relu'),\n",
        "            tf.keras.layers.Dropout(0.5),\n",
        "            tf.keras.layers.Dense(4096, activation='relu'),\n",
        "            tf.keras.layers.Dropout(0.5),\n",
        "            tf.keras.layers.Dense(20, activation=softmax)]))\n",
        "    return net\n",
        "\n",
        "VGG_1 = vgg(conv_arch)    "
      ]
    },
    {
      "cell_type": "markdown",
      "metadata": {
        "id": "O7P9kj412s9c"
      },
      "source": [
        "<h2>Πείραμα 1ο</h2>\n",
        "<ul>\n",
        "  <li> optimizer = adam </li>\n",
        "  <li> epochs = 18 </li>\n",
        "  <li> batch size = 150 </li>\n",
        "  <li> loss function = cross entropy </li>\n",
        "</ul>"
      ]
    },
    {
      "cell_type": "code",
      "execution_count": null,
      "metadata": {
        "colab": {
          "base_uri": "https://localhost:8080/"
        },
        "id": "0UY_kS833mtx",
        "outputId": "e7290f3a-4bc7-4c87-a879-b177195dddc4"
      },
      "outputs": [
        {
          "output_type": "stream",
          "name": "stdout",
          "text": [
            "Model: \"sequential_7\"\n",
            "_________________________________________________________________\n",
            " Layer (type)                Output Shape              Param #   \n",
            "=================================================================\n",
            " resizing_4 (Resizing)       (None, 224, 224, 3)       0         \n",
            "                                                                 \n",
            " sequential_8 (Sequential)   (None, 112, 112, 64)      2048      \n",
            "                                                                 \n",
            " sequential_9 (Sequential)   (None, 56, 56, 128)       74368     \n",
            "                                                                 \n",
            " sequential_10 (Sequential)  (None, 28, 28, 256)       887296    \n",
            "                                                                 \n",
            " sequential_11 (Sequential)  (None, 14, 14, 512)       3544064   \n",
            "                                                                 \n",
            " sequential_12 (Sequential)  (None, 7, 7, 512)         4723712   \n",
            "                                                                 \n",
            " sequential_13 (Sequential)  (None, 20)                119627796 \n",
            "                                                                 \n",
            "=================================================================\n",
            "Total params: 128,859,284\n",
            "Trainable params: 128,853,780\n",
            "Non-trainable params: 5,504\n",
            "_________________________________________________________________\n"
          ]
        }
      ],
      "source": [
        "VGG_1.compile(optimizer='adam',\n",
        "              loss=tf.keras.losses.SparseCategoricalCrossentropy(from_logits=True),\n",
        "              metrics=['accuracy'])\n",
        "#summary\n",
        "VGG_1.summary() "
      ]
    },
    {
      "cell_type": "code",
      "execution_count": null,
      "metadata": {
        "colab": {
          "base_uri": "https://localhost:8080/"
        },
        "id": "rOBB-8oL3tcJ",
        "outputId": "ea4d6c57-11c9-4fb2-bcfa-17c029bc8a05"
      },
      "outputs": [
        {
          "output_type": "stream",
          "name": "stdout",
          "text": [
            "Epoch 1/30\n",
            "67/67 [==============================] - 125s 1s/step - loss: 10.2278 - accuracy: 0.1671 - val_loss: 10.5644 - val_accuracy: 0.0687\n",
            "Epoch 2/30\n",
            "67/67 [==============================] - 73s 1s/step - loss: 2.6835 - accuracy: 0.2267 - val_loss: 3.2444 - val_accuracy: 0.0707\n",
            "Epoch 3/30\n",
            "67/67 [==============================] - 75s 1s/step - loss: 2.4367 - accuracy: 0.2699 - val_loss: 3.2275 - val_accuracy: 0.0833\n",
            "Epoch 4/30\n",
            "67/67 [==============================] - 75s 1s/step - loss: 2.3286 - accuracy: 0.3006 - val_loss: 2.8694 - val_accuracy: 0.1513\n",
            "Epoch 5/30\n",
            "67/67 [==============================] - 73s 1s/step - loss: 2.2626 - accuracy: 0.3078 - val_loss: 2.7814 - val_accuracy: 0.1507\n",
            "Epoch 6/30\n",
            "67/67 [==============================] - 75s 1s/step - loss: 2.1665 - accuracy: 0.3353 - val_loss: 2.6589 - val_accuracy: 0.2153\n",
            "Epoch 7/30\n",
            "67/67 [==============================] - 75s 1s/step - loss: 2.1284 - accuracy: 0.3509 - val_loss: 2.4282 - val_accuracy: 0.2320\n",
            "Epoch 8/30\n",
            "67/67 [==============================] - 73s 1s/step - loss: 2.0900 - accuracy: 0.3679 - val_loss: 2.1173 - val_accuracy: 0.3200\n",
            "Epoch 9/30\n",
            "67/67 [==============================] - 75s 1s/step - loss: 2.0417 - accuracy: 0.3816 - val_loss: 2.0275 - val_accuracy: 0.3600\n",
            "Epoch 10/30\n",
            "67/67 [==============================] - 74s 1s/step - loss: 2.0248 - accuracy: 0.3909 - val_loss: 1.9819 - val_accuracy: 0.3880\n",
            "Epoch 11/30\n",
            "67/67 [==============================] - 75s 1s/step - loss: 1.9826 - accuracy: 0.3938 - val_loss: 2.0756 - val_accuracy: 0.3580\n",
            "Epoch 12/30\n",
            "67/67 [==============================] - 75s 1s/step - loss: 1.9287 - accuracy: 0.4234 - val_loss: 1.8664 - val_accuracy: 0.4087\n",
            "Epoch 13/30\n",
            "67/67 [==============================] - 75s 1s/step - loss: 1.8759 - accuracy: 0.4328 - val_loss: 1.9469 - val_accuracy: 0.3880\n",
            "Epoch 14/30\n",
            "67/67 [==============================] - 75s 1s/step - loss: 1.8465 - accuracy: 0.4436 - val_loss: 1.8311 - val_accuracy: 0.4393\n",
            "Epoch 15/30\n",
            "67/67 [==============================] - 75s 1s/step - loss: 1.7756 - accuracy: 0.4636 - val_loss: 1.8472 - val_accuracy: 0.4480\n",
            "Epoch 16/30\n",
            "67/67 [==============================] - 75s 1s/step - loss: 1.7577 - accuracy: 0.4724 - val_loss: 1.8061 - val_accuracy: 0.4333\n",
            "Epoch 17/30\n",
            "67/67 [==============================] - 75s 1s/step - loss: 1.7533 - accuracy: 0.4755 - val_loss: 1.9582 - val_accuracy: 0.4167\n",
            "Epoch 18/30\n",
            "67/67 [==============================] - 75s 1s/step - loss: 1.6947 - accuracy: 0.4926 - val_loss: 1.7703 - val_accuracy: 0.4787\n",
            "Epoch 19/30\n",
            "67/67 [==============================] - 75s 1s/step - loss: 1.6585 - accuracy: 0.5054 - val_loss: 1.8133 - val_accuracy: 0.4667\n",
            "Epoch 20/30\n",
            "67/67 [==============================] - 75s 1s/step - loss: 1.5737 - accuracy: 0.5279 - val_loss: 1.8300 - val_accuracy: 0.4500\n",
            "Epoch 21/30\n",
            "67/67 [==============================] - 74s 1s/step - loss: 1.5506 - accuracy: 0.5368 - val_loss: 1.7432 - val_accuracy: 0.4793\n",
            "Epoch 22/30\n",
            "67/67 [==============================] - 73s 1s/step - loss: 1.5307 - accuracy: 0.5414 - val_loss: 1.7636 - val_accuracy: 0.4853\n",
            "Epoch 23/30\n",
            "67/67 [==============================] - 75s 1s/step - loss: 1.4523 - accuracy: 0.5665 - val_loss: 1.6914 - val_accuracy: 0.5133\n",
            "Epoch 24/30\n",
            "67/67 [==============================] - 75s 1s/step - loss: 1.4435 - accuracy: 0.5778 - val_loss: 1.8125 - val_accuracy: 0.4440\n",
            "Epoch 25/30\n",
            "67/67 [==============================] - 75s 1s/step - loss: 1.3895 - accuracy: 0.5839 - val_loss: 1.7535 - val_accuracy: 0.4747\n",
            "Epoch 26/30\n",
            "67/67 [==============================] - 75s 1s/step - loss: 1.3678 - accuracy: 0.6024 - val_loss: 1.7113 - val_accuracy: 0.5060\n",
            "Epoch 27/30\n",
            "67/67 [==============================] - 75s 1s/step - loss: 1.2962 - accuracy: 0.6162 - val_loss: 1.7273 - val_accuracy: 0.5153\n",
            "Epoch 28/30\n",
            "67/67 [==============================] - 75s 1s/step - loss: 1.2426 - accuracy: 0.6341 - val_loss: 2.0249 - val_accuracy: 0.4540\n",
            "Epoch 29/30\n",
            "67/67 [==============================] - 74s 1s/step - loss: 1.1995 - accuracy: 0.6476 - val_loss: 1.6448 - val_accuracy: 0.5353\n",
            "Epoch 30/30\n",
            "67/67 [==============================] - 75s 1s/step - loss: 1.1547 - accuracy: 0.6635 - val_loss: 1.8419 - val_accuracy: 0.5067\n"
          ]
        }
      ],
      "source": [
        "history = VGG_1.fit(x_train, y_train_1, epochs=30, batch_size=128,\n",
        "                    validation_data=(x_val, y_val_1))"
      ]
    },
    {
      "cell_type": "code",
      "execution_count": null,
      "metadata": {
        "colab": {
          "base_uri": "https://localhost:8080/",
          "height": 434
        },
        "id": "3zvFQZ7RjAWr",
        "outputId": "44472eb0-3423-419a-8f5f-917d9af521d3"
      },
      "outputs": [
        {
          "output_type": "display_data",
          "data": {
            "text/plain": [
              "<Figure size 2000x2000 with 1 Axes>"
            ],
            "image/png": "[encoded data removed]"
          },
          "metadata": {}
        }
      ],
      "source": [
        "#Παραθέτουμε σε μορφή διαγραμμάτων τα παραπάνω αποτελέσματα:\n",
        "plt.figure(figsize=(20, 20))\n",
        "_plot(history, 'VGG_1', 1, 'adam', '128', '30')"
      ]
    },
    {
      "cell_type": "code",
      "execution_count": null,
      "metadata": {
        "colab": {
          "base_uri": "https://localhost:8080/"
        },
        "id": "IruszcVRjeS2",
        "outputId": "47cff868-bb4c-490a-90b4-b1f5840a7c01"
      },
      "outputs": [
        {
          "output_type": "stream",
          "name": "stdout",
          "text": [
            "VGG_1\n",
            "63/63 [==============================] - 9s 97ms/step - loss: 1.7103 - accuracy: 0.5280\n",
            "loss_VGG_1 = 1.7103426456451416 accuracy_VGG_1 = 0.527999997138977\n"
          ]
        }
      ],
      "source": [
        "#κανουμε evaluate στο test set\n",
        "print(\"VGG_1\")\n",
        "loss_VGG_1, accuracy_VGG_1 = VGG_1.evaluate(x_test, y_test_1)\n",
        "print(\"loss_VGG_1 =\", loss_VGG_1, \"accuracy_VGG_1 =\", accuracy_VGG_1)\n"
      ]
    },
    {
      "cell_type": "markdown",
      "metadata": {
        "id": "aMtl3-BGKWis"
      },
      "source": []
    },
    {
      "cell_type": "markdown",
      "metadata": {
        "id": "G9yVQf3A4Smt"
      },
      "source": [
        "<h2>Πείραμα 2ο</h2>\n",
        "<ul>\n",
        "  <li> optimizer = adagrad </li>\n",
        "  <li> epochs = 50 </li>\n",
        "  <li> batch size = 256 </li>\n",
        "  <li> loss function = cross entropy </li>\n",
        "</ul>\n",
        "\n",
        "Επίσης στο τελευταίο Layer έχουμε βάλει και softmax activation function."
      ]
    },
    {
      "cell_type": "code",
      "execution_count": null,
      "metadata": {
        "id": "Y0YACgh4kg_K"
      },
      "outputs": [],
      "source": [
        "def vgg(conv_arch, softmax=None):\n",
        "    net = tf.keras.models.Sequential()\n",
        "    net.add(layers.experimental.preprocessing.Resizing(224, 224, interpolation=\"bicubic\", input_shape=x_train.shape[1:]))\n",
        "    # The convulational part\n",
        "    for (num_convs, num_channels) in conv_arch:\n",
        "        net.add(vgg_block(num_convs, num_channels))\n",
        "    # The fully-connected part\n",
        "    net.add(\n",
        "        tf.keras.models.Sequential([\n",
        "            tf.keras.layers.Flatten(),\n",
        "            tf.keras.layers.Dense(4096, activation='relu'),\n",
        "            tf.keras.layers.Dropout(0.5),\n",
        "            tf.keras.layers.Dense(4096, activation='relu'),\n",
        "            tf.keras.layers.Dropout(0.5),\n",
        "            tf.keras.layers.Dense(20, activation=softmax)]))\n",
        "    return net"
      ]
    },
    {
      "cell_type": "code",
      "execution_count": null,
      "metadata": {
        "id": "kSM3dAgk4SGO"
      },
      "outputs": [],
      "source": [
        "VGG_2 = vgg(conv_arch, softmax='softmax')"
      ]
    },
    {
      "cell_type": "code",
      "execution_count": null,
      "metadata": {
        "colab": {
          "base_uri": "https://localhost:8080/"
        },
        "id": "OTy6WYNV4lm4",
        "outputId": "434215eb-4dc2-4d47-a368-71e627eb4986"
      },
      "outputs": [
        {
          "output_type": "stream",
          "name": "stdout",
          "text": [
            "Model: \"sequential_14\"\n",
            "_________________________________________________________________\n",
            " Layer (type)                Output Shape              Param #   \n",
            "=================================================================\n",
            " resizing_5 (Resizing)       (None, 224, 224, 3)       0         \n",
            "                                                                 \n",
            " sequential_15 (Sequential)  (None, 112, 112, 64)      2048      \n",
            "                                                                 \n",
            " sequential_16 (Sequential)  (None, 56, 56, 128)       74368     \n",
            "                                                                 \n",
            " sequential_17 (Sequential)  (None, 28, 28, 256)       887296    \n",
            "                                                                 \n",
            " sequential_18 (Sequential)  (None, 14, 14, 512)       3544064   \n",
            "                                                                 \n",
            " sequential_19 (Sequential)  (None, 7, 7, 512)         4723712   \n",
            "                                                                 \n",
            " sequential_20 (Sequential)  (None, 20)                119627796 \n",
            "                                                                 \n",
            "=================================================================\n",
            "Total params: 128,859,284\n",
            "Trainable params: 128,853,780\n",
            "Non-trainable params: 5,504\n",
            "_________________________________________________________________\n"
          ]
        }
      ],
      "source": [
        "VGG_2.compile(optimizer='adagrad',\n",
        "              loss=tf.keras.losses.SparseCategoricalCrossentropy(from_logits=False),\n",
        "              metrics=['accuracy'])\n",
        "#summary\n",
        "VGG_2.summary() "
      ]
    },
    {
      "cell_type": "code",
      "execution_count": null,
      "metadata": {
        "colab": {
          "base_uri": "https://localhost:8080/"
        },
        "id": "3sNUOeHd4oGj",
        "outputId": "aff26a99-a376-44db-8258-180bf147d7a9"
      },
      "outputs": [
        {
          "output_type": "stream",
          "name": "stdout",
          "text": [
            "Epoch 1/30\n",
            "133/133 [==============================] - 96s 575ms/step - loss: 3.0237 - accuracy: 0.2375 - val_loss: 3.3364 - val_accuracy: 0.0393\n",
            "Epoch 2/30\n",
            "133/133 [==============================] - 72s 539ms/step - loss: 2.2198 - accuracy: 0.3540 - val_loss: 4.0417 - val_accuracy: 0.0433\n",
            "Epoch 3/30\n",
            "133/133 [==============================] - 69s 522ms/step - loss: 1.8959 - accuracy: 0.4339 - val_loss: 3.2931 - val_accuracy: 0.1533\n",
            "Epoch 4/30\n",
            "133/133 [==============================] - 71s 536ms/step - loss: 1.6986 - accuracy: 0.4812 - val_loss: 2.0955 - val_accuracy: 0.3680\n",
            "Epoch 5/30\n",
            "133/133 [==============================] - 70s 523ms/step - loss: 1.5524 - accuracy: 0.5171 - val_loss: 1.6301 - val_accuracy: 0.4933\n",
            "Epoch 6/30\n",
            "133/133 [==============================] - 71s 537ms/step - loss: 1.4163 - accuracy: 0.5584 - val_loss: 1.5521 - val_accuracy: 0.5247\n",
            "Epoch 7/30\n",
            "133/133 [==============================] - 72s 539ms/step - loss: 1.3018 - accuracy: 0.5969 - val_loss: 1.4756 - val_accuracy: 0.5453\n",
            "Epoch 8/30\n",
            "133/133 [==============================] - 71s 534ms/step - loss: 1.1805 - accuracy: 0.6315 - val_loss: 1.4493 - val_accuracy: 0.5640\n",
            "Epoch 9/30\n",
            "133/133 [==============================] - 71s 534ms/step - loss: 1.0908 - accuracy: 0.6507 - val_loss: 1.4406 - val_accuracy: 0.5680\n",
            "Epoch 10/30\n",
            "133/133 [==============================] - 71s 534ms/step - loss: 1.0272 - accuracy: 0.6736 - val_loss: 1.4153 - val_accuracy: 0.5693\n",
            "Epoch 11/30\n",
            "133/133 [==============================] - 69s 521ms/step - loss: 0.9313 - accuracy: 0.7059 - val_loss: 1.4079 - val_accuracy: 0.5780\n",
            "Epoch 12/30\n",
            "133/133 [==============================] - 69s 522ms/step - loss: 0.8617 - accuracy: 0.7272 - val_loss: 1.3758 - val_accuracy: 0.5880\n",
            "Epoch 13/30\n",
            "133/133 [==============================] - 70s 523ms/step - loss: 0.8002 - accuracy: 0.7433 - val_loss: 1.3570 - val_accuracy: 0.5947\n",
            "Epoch 14/30\n",
            "133/133 [==============================] - 69s 521ms/step - loss: 0.7236 - accuracy: 0.7724 - val_loss: 1.3479 - val_accuracy: 0.6040\n",
            "Epoch 15/30\n",
            "133/133 [==============================] - 71s 535ms/step - loss: 0.6804 - accuracy: 0.7894 - val_loss: 1.3554 - val_accuracy: 0.5973\n",
            "Epoch 16/30\n",
            "133/133 [==============================] - 69s 521ms/step - loss: 0.6098 - accuracy: 0.8068 - val_loss: 1.3482 - val_accuracy: 0.5987\n",
            "Epoch 17/30\n",
            "133/133 [==============================] - 71s 533ms/step - loss: 0.5520 - accuracy: 0.8267 - val_loss: 1.3423 - val_accuracy: 0.6027\n",
            "Epoch 18/30\n",
            "133/133 [==============================] - 69s 522ms/step - loss: 0.5073 - accuracy: 0.8405 - val_loss: 1.3311 - val_accuracy: 0.6160\n",
            "Epoch 19/30\n",
            "133/133 [==============================] - 71s 534ms/step - loss: 0.4446 - accuracy: 0.8624 - val_loss: 1.3344 - val_accuracy: 0.6187\n",
            "Epoch 20/30\n",
            "133/133 [==============================] - 71s 536ms/step - loss: 0.4134 - accuracy: 0.8694 - val_loss: 1.3225 - val_accuracy: 0.6193\n",
            "Epoch 21/30\n",
            "133/133 [==============================] - 71s 535ms/step - loss: 0.3867 - accuracy: 0.8822 - val_loss: 1.3341 - val_accuracy: 0.6200\n",
            "Epoch 22/30\n",
            "133/133 [==============================] - 71s 535ms/step - loss: 0.3319 - accuracy: 0.9007 - val_loss: 1.3127 - val_accuracy: 0.6293\n",
            "Epoch 23/30\n",
            "133/133 [==============================] - 71s 535ms/step - loss: 0.2919 - accuracy: 0.9153 - val_loss: 1.3399 - val_accuracy: 0.6247\n",
            "Epoch 24/30\n",
            "133/133 [==============================] - 69s 523ms/step - loss: 0.2807 - accuracy: 0.9154 - val_loss: 1.3430 - val_accuracy: 0.6267\n",
            "Epoch 25/30\n",
            "133/133 [==============================] - 71s 534ms/step - loss: 0.2416 - accuracy: 0.9322 - val_loss: 1.3481 - val_accuracy: 0.6260\n",
            "Epoch 26/30\n",
            "133/133 [==============================] - 71s 534ms/step - loss: 0.2188 - accuracy: 0.9408 - val_loss: 1.3647 - val_accuracy: 0.6247\n",
            "Epoch 27/30\n",
            "133/133 [==============================] - 71s 535ms/step - loss: 0.2068 - accuracy: 0.9440 - val_loss: 1.3413 - val_accuracy: 0.6307\n",
            "Epoch 28/30\n",
            "133/133 [==============================] - 69s 522ms/step - loss: 0.1953 - accuracy: 0.9501 - val_loss: 1.3591 - val_accuracy: 0.6327\n",
            "Epoch 29/30\n",
            "133/133 [==============================] - 69s 520ms/step - loss: 0.1866 - accuracy: 0.9488 - val_loss: 1.3591 - val_accuracy: 0.6387\n",
            "Epoch 30/30\n",
            "133/133 [==============================] - 71s 535ms/step - loss: 0.1590 - accuracy: 0.9602 - val_loss: 1.3362 - val_accuracy: 0.6327\n"
          ]
        }
      ],
      "source": [
        "# run_opts = tf.compat.v1.RunOptions(report_tensor_allocations_upon_oom = True)\n",
        "\n",
        "history_VGG_2 = VGG_2.fit(x_train, y_train_1, epochs=30, batch_size=64,\n",
        "                    validation_data=(x_val, y_val_1))"
      ]
    },
    {
      "cell_type": "code",
      "execution_count": null,
      "metadata": {
        "colab": {
          "base_uri": "https://localhost:8080/",
          "height": 434
        },
        "id": "eg39Ipw62J-e",
        "outputId": "6993407f-e682-4734-c5da-55672705a4b5"
      },
      "outputs": [
        {
          "output_type": "display_data",
          "data": {
            "text/plain": [
              "<Figure size 2000x2000 with 1 Axes>"
            ],
            "image/png": "[encoded data removed]"
          },
          "metadata": {}
        }
      ],
      "source": [
        "#Παραθέτουμε σε μορφή διαγραμμάτων τα παραπάνω αποτελέσματα:\n",
        "plt.figure(figsize=(20, 20))\n",
        "_plot(history_VGG_2, 'VGG_2', 1, 'adam', '64', '30')"
      ]
    },
    {
      "cell_type": "code",
      "execution_count": null,
      "metadata": {
        "colab": {
          "base_uri": "https://localhost:8080/"
        },
        "id": "Pi-YFPop2T7e",
        "outputId": "e1d76a60-f64e-4a5c-f4bb-73f79905637b"
      },
      "outputs": [
        {
          "output_type": "stream",
          "name": "stdout",
          "text": [
            "VGG_2\n",
            "63/63 [==============================] - 5s 78ms/step - loss: 1.2887 - accuracy: 0.6450\n",
            "loss_VGG_2 = 1.2887135744094849 accuracy_VGG_2 = 0.6449999809265137\n"
          ]
        }
      ],
      "source": [
        "print(\"VGG_2\")\n",
        "loss_VGG_2, accuracy_VGG_2 = VGG_2.evaluate(x_test, y_test_1)\n",
        "print(\"loss_VGG_2 =\", loss_VGG_2, \"accuracy_VGG_2 =\", accuracy_VGG_2)"
      ]
    },
    {
      "cell_type": "code",
      "execution_count": null,
      "metadata": {
        "id": "Xi-NoYxg2Qnd"
      },
      "outputs": [],
      "source": []
    },
    {
      "cell_type": "markdown",
      "metadata": {
        "id": "3FQ99Fc041Pt"
      },
      "source": [
        "<h1>MyCNN</h1>\n"
      ]
    },
    {
      "cell_type": "markdown",
      "metadata": {
        "id": "O7PmxrDf47vG"
      },
      "source": [
        "Αρχιτεκτονική:\n",
        "Αρχικά σε κάθε layer χρησιμοποιούμε ως activation function τη ReLU (για λόγους που εξηγήθηκαν στο θεωρητικό Μέρος.\n",
        "Επίσης χηρσιμοποιούμε Dropout στα Dense Layers προκειμένου να αποφύγουμε το overfitting."
      ]
    },
    {
      "cell_type": "code",
      "execution_count": null,
      "metadata": {
        "id": "5x2SynK8b--O"
      },
      "outputs": [],
      "source": [
        "def vgg_block_new(num_convs, num_channels, _kernel_size):\n",
        "    blk = tf.keras.models.Sequential()\n",
        "    for _ in range(num_convs):\n",
        "        blk.add(\n",
        "            tf.keras.layers.Conv2D(num_channels, kernel_size= _kernel_size,\n",
        "                                   padding='same', activation='relu'))\n",
        "        blk.add(layers.BatchNormalization())\n",
        "    blk.add(tf.keras.layers.MaxPool2D(pool_size=2, strides=2))\n",
        "    return blk"
      ]
    },
    {
      "cell_type": "code",
      "execution_count": null,
      "metadata": {
        "id": "sfm80lui45ok"
      },
      "outputs": [],
      "source": [
        "def myCNN():\n",
        "  model = tf.keras.models.Sequential()\n",
        "  model.add(layers.experimental.preprocessing.Resizing(96, 96, interpolation=\"bicubic\", input_shape=x_train.shape[1:]))\n",
        "  model.add(layers.Conv2D(50, (9, 9), activation='relu', input_shape=(96, 96, 3)))\n",
        "  model.add(layers.MaxPooling2D((2, 2)))\n",
        "  model.add(layers.Conv2D(100, (7, 7), activation='relu'))\n",
        "  model.add(layers.MaxPooling2D((2, 2)))\n",
        "  model.add(vgg_block_new(2, 150,5))\n",
        "  model.add(vgg_block_new(3, 250, 3))\n",
        "\n",
        "  model.add(layers.Flatten())\n",
        "  model.add(layers.Dense(4096, activation='relu'))\n",
        "  model.add(layers.Dense(2048, activation='relu'))\n",
        "  model.add(layers.Dense(20, activation='softmax'))\n",
        "  return model"
      ]
    },
    {
      "cell_type": "code",
      "execution_count": null,
      "metadata": {
        "colab": {
          "base_uri": "https://localhost:8080/"
        },
        "id": "Wcxd4b5YcXnw",
        "outputId": "4002a312-b6d0-45da-8097-8a496e6cb1ef"
      },
      "outputs": [
        {
          "output_type": "stream",
          "name": "stdout",
          "text": [
            "Model: \"sequential_21\"\n",
            "_________________________________________________________________\n",
            " Layer (type)                Output Shape              Param #   \n",
            "=================================================================\n",
            " resizing_6 (Resizing)       (None, 96, 96, 3)         0         \n",
            "                                                                 \n",
            " conv2d_42 (Conv2D)          (None, 88, 88, 50)        12200     \n",
            "                                                                 \n",
            " max_pooling2d_22 (MaxPoolin  (None, 44, 44, 50)       0         \n",
            " g2D)                                                            \n",
            "                                                                 \n",
            " conv2d_43 (Conv2D)          (None, 38, 38, 100)       245100    \n",
            "                                                                 \n",
            " max_pooling2d_23 (MaxPoolin  (None, 19, 19, 100)      0         \n",
            " g2D)                                                            \n",
            "                                                                 \n",
            " sequential_22 (Sequential)  (None, 9, 9, 150)         939000    \n",
            "                                                                 \n",
            " sequential_23 (Sequential)  (None, 4, 4, 250)         1466250   \n",
            "                                                                 \n",
            " flatten_9 (Flatten)         (None, 4000)              0         \n",
            "                                                                 \n",
            " dense_27 (Dense)            (None, 4096)              16388096  \n",
            "                                                                 \n",
            " dense_28 (Dense)            (None, 2048)              8390656   \n",
            "                                                                 \n",
            " dense_29 (Dense)            (None, 20)                40980     \n",
            "                                                                 \n",
            "=================================================================\n",
            "Total params: 27,482,282\n",
            "Trainable params: 27,480,182\n",
            "Non-trainable params: 2,100\n",
            "_________________________________________________________________\n"
          ]
        }
      ],
      "source": [
        "myCNN_1 = myCNN()\n",
        "myCNN_1.compile(optimizer='adam',\n",
        "              loss=tf.keras.losses.SparseCategoricalCrossentropy(from_logits=False),\n",
        "              metrics=['accuracy'])\n",
        "#summary\n",
        "myCNN_1.summary()"
      ]
    },
    {
      "cell_type": "code",
      "execution_count": null,
      "metadata": {
        "colab": {
          "base_uri": "https://localhost:8080/"
        },
        "id": "gG7cNEzkci2T",
        "outputId": "4277d284-7565-44de-c32e-794563969c27"
      },
      "outputs": [
        {
          "output_type": "stream",
          "name": "stdout",
          "text": [
            "Epoch 1/30\n",
            "67/67 [==============================] - 22s 196ms/step - loss: 3.8376 - accuracy: 0.1826 - val_loss: 8.3420 - val_accuracy: 0.0867\n",
            "Epoch 2/30\n",
            "67/67 [==============================] - 9s 138ms/step - loss: 2.2023 - accuracy: 0.3053 - val_loss: 3.3739 - val_accuracy: 0.1420\n",
            "Epoch 3/30\n",
            "67/67 [==============================] - 9s 137ms/step - loss: 2.0099 - accuracy: 0.3636 - val_loss: 2.3110 - val_accuracy: 0.2873\n",
            "Epoch 4/30\n",
            "67/67 [==============================] - 9s 134ms/step - loss: 1.8573 - accuracy: 0.4141 - val_loss: 2.4553 - val_accuracy: 0.2847\n",
            "Epoch 5/30\n",
            "67/67 [==============================] - 9s 133ms/step - loss: 1.6997 - accuracy: 0.4580 - val_loss: 2.2161 - val_accuracy: 0.3527\n",
            "Epoch 6/30\n",
            "67/67 [==============================] - 9s 133ms/step - loss: 1.5100 - accuracy: 0.5162 - val_loss: 3.9299 - val_accuracy: 0.1527\n",
            "Epoch 7/30\n",
            "67/67 [==============================] - 9s 136ms/step - loss: 1.2949 - accuracy: 0.5834 - val_loss: 2.6311 - val_accuracy: 0.3540\n",
            "Epoch 8/30\n",
            "67/67 [==============================] - 9s 134ms/step - loss: 1.0466 - accuracy: 0.6607 - val_loss: 2.2269 - val_accuracy: 0.3787\n",
            "Epoch 9/30\n",
            "67/67 [==============================] - 9s 132ms/step - loss: 0.8248 - accuracy: 0.7262 - val_loss: 2.4212 - val_accuracy: 0.4287\n",
            "Epoch 10/30\n",
            "67/67 [==============================] - 9s 137ms/step - loss: 0.5993 - accuracy: 0.8008 - val_loss: 2.6952 - val_accuracy: 0.4120\n",
            "Epoch 11/30\n",
            "67/67 [==============================] - 9s 134ms/step - loss: 0.4076 - accuracy: 0.8649 - val_loss: 2.8974 - val_accuracy: 0.4180\n",
            "Epoch 12/30\n",
            "67/67 [==============================] - 9s 137ms/step - loss: 0.2833 - accuracy: 0.9073 - val_loss: 3.5827 - val_accuracy: 0.3887\n",
            "Epoch 13/30\n",
            "67/67 [==============================] - 9s 133ms/step - loss: 0.2199 - accuracy: 0.9288 - val_loss: 3.5039 - val_accuracy: 0.4200\n",
            "Epoch 14/30\n",
            "67/67 [==============================] - 9s 134ms/step - loss: 0.1302 - accuracy: 0.9596 - val_loss: 3.3934 - val_accuracy: 0.4360\n",
            "Epoch 15/30\n",
            "67/67 [==============================] - 9s 137ms/step - loss: 0.1338 - accuracy: 0.9576 - val_loss: 3.8573 - val_accuracy: 0.4347\n",
            "Epoch 16/30\n",
            "67/67 [==============================] - 9s 135ms/step - loss: 0.1052 - accuracy: 0.9659 - val_loss: 4.1937 - val_accuracy: 0.4047\n",
            "Epoch 17/30\n",
            "67/67 [==============================] - 9s 132ms/step - loss: 0.1118 - accuracy: 0.9642 - val_loss: 3.6507 - val_accuracy: 0.4447\n",
            "Epoch 18/30\n",
            "67/67 [==============================] - 9s 136ms/step - loss: 0.1392 - accuracy: 0.9547 - val_loss: 3.8179 - val_accuracy: 0.4327\n",
            "Epoch 19/30\n",
            "67/67 [==============================] - 9s 137ms/step - loss: 0.1146 - accuracy: 0.9621 - val_loss: 3.8596 - val_accuracy: 0.4413\n",
            "Epoch 20/30\n",
            "67/67 [==============================] - 9s 136ms/step - loss: 0.1416 - accuracy: 0.9559 - val_loss: 4.4205 - val_accuracy: 0.3887\n",
            "Epoch 21/30\n",
            "67/67 [==============================] - 9s 132ms/step - loss: 0.1347 - accuracy: 0.9541 - val_loss: 4.3705 - val_accuracy: 0.4193\n",
            "Epoch 22/30\n",
            "67/67 [==============================] - 9s 134ms/step - loss: 0.1755 - accuracy: 0.9474 - val_loss: 4.3030 - val_accuracy: 0.4293\n",
            "Epoch 23/30\n",
            "67/67 [==============================] - 9s 134ms/step - loss: 0.1181 - accuracy: 0.9654 - val_loss: 4.2206 - val_accuracy: 0.4367\n",
            "Epoch 24/30\n",
            "67/67 [==============================] - 9s 135ms/step - loss: 0.0722 - accuracy: 0.9774 - val_loss: 4.0182 - val_accuracy: 0.4340\n",
            "Epoch 25/30\n",
            "67/67 [==============================] - 9s 134ms/step - loss: 0.0716 - accuracy: 0.9762 - val_loss: 4.5626 - val_accuracy: 0.4173\n",
            "Epoch 26/30\n",
            "67/67 [==============================] - 9s 137ms/step - loss: 0.0727 - accuracy: 0.9801 - val_loss: 5.0912 - val_accuracy: 0.3640\n",
            "Epoch 27/30\n",
            "67/67 [==============================] - 9s 135ms/step - loss: 0.0637 - accuracy: 0.9806 - val_loss: 4.1510 - val_accuracy: 0.4587\n",
            "Epoch 28/30\n",
            "67/67 [==============================] - 9s 134ms/step - loss: 0.0738 - accuracy: 0.9778 - val_loss: 4.4676 - val_accuracy: 0.4447\n",
            "Epoch 29/30\n",
            "67/67 [==============================] - 9s 133ms/step - loss: 0.0639 - accuracy: 0.9785 - val_loss: 4.2681 - val_accuracy: 0.4293\n",
            "Epoch 30/30\n",
            "67/67 [==============================] - 9s 135ms/step - loss: 0.1005 - accuracy: 0.9708 - val_loss: 6.2232 - val_accuracy: 0.3460\n"
          ]
        }
      ],
      "source": [
        "history_myCNN_1 = myCNN_1.fit(x_train, y_train_1, epochs=30, batch_size=128,\n",
        "                    validation_data=(x_val, y_val_1))"
      ]
    },
    {
      "cell_type": "markdown",
      "metadata": {
        "id": "N4pdKmm2t6QO"
      },
      "source": [
        "Παρατηρούμε overfitting και αυτό είναι απόλυτα λογικό καθώς δεν έχουμε κάνει τίποτα για να το αποτρέψουμε (θα προσπαθήσουμε να το αποτρέψουμε στο 2ο Μέρος). "
      ]
    },
    {
      "cell_type": "code",
      "execution_count": null,
      "metadata": {
        "colab": {
          "base_uri": "https://localhost:8080/",
          "height": 434
        },
        "id": "6HvCpwscs7tW",
        "outputId": "6a1d72c6-cb75-4fc4-fe5a-c5c07502e1f0"
      },
      "outputs": [
        {
          "output_type": "display_data",
          "data": {
            "text/plain": [
              "<Figure size 2000x2000 with 1 Axes>"
            ],
            "image/png": "[encoded data removed]"
          },
          "metadata": {}
        }
      ],
      "source": [
        "#Παραθέτουμε σε μορφή διαγραμμάτων τα παραπάνω αποτελέσματα:\n",
        "plt.figure(figsize=(20, 20))\n",
        "_plot(history_myCNN_1, 'myCNN_1', 1, 'adam', '128', '30')"
      ]
    },
    {
      "cell_type": "code",
      "execution_count": null,
      "metadata": {
        "colab": {
          "base_uri": "https://localhost:8080/"
        },
        "id": "jNa4SWKItCjj",
        "outputId": "5ebf6482-d968-4369-a633-86646da8ee11"
      },
      "outputs": [
        {
          "output_type": "stream",
          "name": "stdout",
          "text": [
            "myCNN_1\n",
            "63/63 [==============================] - 2s 20ms/step - loss: 6.1732 - accuracy: 0.3570\n",
            "loss_myCNN_1 = 6.173184394836426 accuracy_myCNN_1 = 0.3569999933242798\n"
          ]
        }
      ],
      "source": [
        "print(\"myCNN_1\")\n",
        "loss_myCNN_1, accuracy_myCNN_1 = myCNN_1.evaluate(x_test, y_test_1)\n",
        "print(\"loss_myCNN_1 =\", loss_myCNN_1, \"accuracy_myCNN_1 =\", accuracy_myCNN_1)"
      ]
    },
    {
      "cell_type": "markdown",
      "metadata": {
        "id": "qmxnXGbV3iMw"
      },
      "source": [
        "Όσον αφορά τη 2η περίπτωση για λόγους πειραματισμού αντικαθιστούμε τη ReLU με τη LeakyReLU."
      ]
    },
    {
      "cell_type": "code",
      "execution_count": null,
      "metadata": {
        "id": "EjijphK4-CWD"
      },
      "outputs": [],
      "source": [
        "def vgg_block_new(num_convs, num_channels, _kernel_size):\n",
        "    blk = tf.keras.models.Sequential()\n",
        "    for _ in range(num_convs):\n",
        "        blk.add(\n",
        "            tf.keras.layers.Conv2D(num_channels, kernel_size= _kernel_size,\n",
        "                                   padding='same'))\n",
        "        blk.add(layers.LeakyReLU(alpha=0.15))\n",
        "        blk.add(layers.BatchNormalization())\n",
        "    blk.add(tf.keras.layers.MaxPool2D(pool_size=2, strides=2))\n",
        "    return blk"
      ]
    },
    {
      "cell_type": "code",
      "execution_count": null,
      "metadata": {
        "id": "TB6U19Nv4Gi2"
      },
      "outputs": [],
      "source": [
        "def myCNN_LeakyReLU():\n",
        "  model = tf.keras.models.Sequential()\n",
        "  model.add(layers.experimental.preprocessing.Resizing(96, 96, interpolation=\"bicubic\", input_shape=x_train.shape[1:]))\n",
        "  model.add(layers.Conv2D(50, (9, 9), input_shape=(96, 96, 3)))\n",
        "  model.add(layers.LeakyReLU(alpha=0.15))    \n",
        "  model.add(layers.MaxPooling2D((2, 2)))\n",
        "  model.add(layers.Conv2D(100, (7, 7)))\n",
        "  model.add(layers.LeakyReLU(alpha=0.15))    \n",
        "  model.add(layers.MaxPooling2D((2, 2)))\n",
        "  model.add(vgg_block_new(2, 150,5))\n",
        "  model.add(vgg_block_new(3, 250, 3))\n",
        "\n",
        "  model.add(layers.Flatten())\n",
        "  model.add(layers.Dense(4096))\n",
        "  model.add(layers.LeakyReLU(alpha=0.15))    \n",
        "  model.add(layers.Dense(2048))\n",
        "  model.add(layers.Dense(20, activation='softmax'))\n",
        "  return model"
      ]
    },
    {
      "cell_type": "code",
      "execution_count": null,
      "metadata": {
        "colab": {
          "base_uri": "https://localhost:8080/"
        },
        "id": "3QUf1FUu3jCE",
        "outputId": "fd179cd5-269d-4687-b83a-7e2e289b6cd4"
      },
      "outputs": [
        {
          "output_type": "stream",
          "name": "stdout",
          "text": [
            "Model: \"sequential_24\"\n",
            "_________________________________________________________________\n",
            " Layer (type)                Output Shape              Param #   \n",
            "=================================================================\n",
            " resizing_7 (Resizing)       (None, 96, 96, 3)         0         \n",
            "                                                                 \n",
            " conv2d_49 (Conv2D)          (None, 88, 88, 50)        12200     \n",
            "                                                                 \n",
            " leaky_re_lu_14 (LeakyReLU)  (None, 88, 88, 50)        0         \n",
            "                                                                 \n",
            " max_pooling2d_26 (MaxPoolin  (None, 44, 44, 50)       0         \n",
            " g2D)                                                            \n",
            "                                                                 \n",
            " conv2d_50 (Conv2D)          (None, 38, 38, 100)       245100    \n",
            "                                                                 \n",
            " leaky_re_lu_15 (LeakyReLU)  (None, 38, 38, 100)       0         \n",
            "                                                                 \n",
            " max_pooling2d_27 (MaxPoolin  (None, 19, 19, 100)      0         \n",
            " g2D)                                                            \n",
            "                                                                 \n",
            " sequential_25 (Sequential)  (None, 9, 9, 150)         939000    \n",
            "                                                                 \n",
            " sequential_26 (Sequential)  (None, 4, 4, 250)         1466250   \n",
            "                                                                 \n",
            " flatten_10 (Flatten)        (None, 4000)              0         \n",
            "                                                                 \n",
            " dense_30 (Dense)            (None, 4096)              16388096  \n",
            "                                                                 \n",
            " leaky_re_lu_21 (LeakyReLU)  (None, 4096)              0         \n",
            "                                                                 \n",
            " dense_31 (Dense)            (None, 2048)              8390656   \n",
            "                                                                 \n",
            " dense_32 (Dense)            (None, 20)                40980     \n",
            "                                                                 \n",
            "=================================================================\n",
            "Total params: 27,482,282\n",
            "Trainable params: 27,480,182\n",
            "Non-trainable params: 2,100\n",
            "_________________________________________________________________\n"
          ]
        }
      ],
      "source": [
        "myCNN_2 = myCNN_LeakyReLU()\n",
        "myCNN_2.compile(optimizer='adagrad',\n",
        "              loss=tf.keras.losses.SparseCategoricalCrossentropy(from_logits=False),\n",
        "              metrics=['accuracy'])\n",
        "#summary\n",
        "myCNN_2.summary()"
      ]
    },
    {
      "cell_type": "code",
      "execution_count": null,
      "metadata": {
        "colab": {
          "base_uri": "https://localhost:8080/"
        },
        "id": "5PBon7173pmV",
        "outputId": "f771f926-dfcc-43a9-9645-a94a44b6ca19"
      },
      "outputs": [
        {
          "output_type": "stream",
          "name": "stdout",
          "text": [
            "Epoch 1/30\n",
            "34/34 [==============================] - 25s 392ms/step - loss: 2.6530 - accuracy: 0.2604 - val_loss: 2.9914 - val_accuracy: 0.0433\n",
            "Epoch 2/30\n",
            "34/34 [==============================] - 10s 286ms/step - loss: 1.9987 - accuracy: 0.3905 - val_loss: 2.9923 - val_accuracy: 0.0720\n",
            "Epoch 3/30\n",
            "34/34 [==============================] - 10s 283ms/step - loss: 1.6951 - accuracy: 0.4755 - val_loss: 3.0062 - val_accuracy: 0.0553\n",
            "Epoch 4/30\n",
            "34/34 [==============================] - 10s 282ms/step - loss: 1.4907 - accuracy: 0.5402 - val_loss: 3.0265 - val_accuracy: 0.0547\n",
            "Epoch 5/30\n",
            "34/34 [==============================] - 10s 281ms/step - loss: 1.3425 - accuracy: 0.5840 - val_loss: 3.0676 - val_accuracy: 0.0547\n",
            "Epoch 6/30\n",
            "34/34 [==============================] - 9s 279ms/step - loss: 1.2009 - accuracy: 0.6325 - val_loss: 3.0965 - val_accuracy: 0.0613\n",
            "Epoch 7/30\n",
            "34/34 [==============================] - 10s 297ms/step - loss: 1.0690 - accuracy: 0.6799 - val_loss: 3.1661 - val_accuracy: 0.0727\n",
            "Epoch 8/30\n",
            "34/34 [==============================] - 9s 279ms/step - loss: 0.9954 - accuracy: 0.7047 - val_loss: 3.0820 - val_accuracy: 0.0887\n",
            "Epoch 9/30\n",
            "34/34 [==============================] - 10s 283ms/step - loss: 0.8778 - accuracy: 0.7518 - val_loss: 3.0910 - val_accuracy: 0.0873\n",
            "Epoch 10/30\n",
            "34/34 [==============================] - 10s 283ms/step - loss: 0.8046 - accuracy: 0.7788 - val_loss: 3.2577 - val_accuracy: 0.0893\n",
            "Epoch 11/30\n",
            "34/34 [==============================] - 10s 284ms/step - loss: 0.7182 - accuracy: 0.8158 - val_loss: 3.2151 - val_accuracy: 0.0947\n",
            "Epoch 12/30\n",
            "34/34 [==============================] - 10s 281ms/step - loss: 0.6427 - accuracy: 0.8451 - val_loss: 3.3191 - val_accuracy: 0.1073\n",
            "Epoch 13/30\n",
            "34/34 [==============================] - 10s 281ms/step - loss: 0.5939 - accuracy: 0.8613 - val_loss: 2.8628 - val_accuracy: 0.1820\n",
            "Epoch 14/30\n",
            "34/34 [==============================] - 10s 281ms/step - loss: 0.5296 - accuracy: 0.8885 - val_loss: 2.6973 - val_accuracy: 0.2280\n",
            "Epoch 15/30\n",
            "34/34 [==============================] - 10s 283ms/step - loss: 0.4699 - accuracy: 0.9099 - val_loss: 2.5472 - val_accuracy: 0.2880\n",
            "Epoch 16/30\n",
            "34/34 [==============================] - 10s 302ms/step - loss: 0.4232 - accuracy: 0.9253 - val_loss: 2.1496 - val_accuracy: 0.3793\n",
            "Epoch 17/30\n",
            "34/34 [==============================] - 9s 280ms/step - loss: 0.3800 - accuracy: 0.9393 - val_loss: 2.0994 - val_accuracy: 0.3767\n",
            "Epoch 18/30\n",
            "34/34 [==============================] - 10s 282ms/step - loss: 0.3529 - accuracy: 0.9448 - val_loss: 1.8901 - val_accuracy: 0.4420\n",
            "Epoch 19/30\n",
            "34/34 [==============================] - 10s 281ms/step - loss: 0.3015 - accuracy: 0.9602 - val_loss: 1.9009 - val_accuracy: 0.4380\n",
            "Epoch 20/30\n",
            "34/34 [==============================] - 10s 281ms/step - loss: 0.2723 - accuracy: 0.9716 - val_loss: 1.9581 - val_accuracy: 0.4560\n",
            "Epoch 21/30\n",
            "34/34 [==============================] - 10s 283ms/step - loss: 0.2515 - accuracy: 0.9747 - val_loss: 1.8809 - val_accuracy: 0.4713\n",
            "Epoch 22/30\n",
            "34/34 [==============================] - 9s 278ms/step - loss: 0.2265 - accuracy: 0.9805 - val_loss: 1.8785 - val_accuracy: 0.4693\n",
            "Epoch 23/30\n",
            "34/34 [==============================] - 10s 282ms/step - loss: 0.1989 - accuracy: 0.9855 - val_loss: 1.8197 - val_accuracy: 0.4867\n",
            "Epoch 24/30\n",
            "34/34 [==============================] - 10s 283ms/step - loss: 0.1859 - accuracy: 0.9880 - val_loss: 1.8801 - val_accuracy: 0.4893\n",
            "Epoch 25/30\n",
            "34/34 [==============================] - 10s 282ms/step - loss: 0.1645 - accuracy: 0.9929 - val_loss: 1.8325 - val_accuracy: 0.4900\n",
            "Epoch 26/30\n",
            "34/34 [==============================] - 10s 300ms/step - loss: 0.1489 - accuracy: 0.9945 - val_loss: 1.6829 - val_accuracy: 0.5133\n",
            "Epoch 27/30\n",
            "34/34 [==============================] - 9s 279ms/step - loss: 0.1397 - accuracy: 0.9958 - val_loss: 1.8523 - val_accuracy: 0.4740\n",
            "Epoch 28/30\n",
            "34/34 [==============================] - 10s 282ms/step - loss: 0.1274 - accuracy: 0.9958 - val_loss: 1.6777 - val_accuracy: 0.5373\n",
            "Epoch 29/30\n",
            "34/34 [==============================] - 10s 282ms/step - loss: 0.1120 - accuracy: 0.9984 - val_loss: 1.7227 - val_accuracy: 0.5320\n",
            "Epoch 30/30\n",
            "34/34 [==============================] - 10s 284ms/step - loss: 0.1055 - accuracy: 0.9987 - val_loss: 1.6428 - val_accuracy: 0.5427\n"
          ]
        }
      ],
      "source": [
        "history_myCNN_2 = myCNN_2.fit(x_train, y_train_1, epochs=30, batch_size=256,\n",
        "                    validation_data=(x_val, y_val_1))"
      ]
    },
    {
      "cell_type": "code",
      "execution_count": null,
      "metadata": {
        "colab": {
          "base_uri": "https://localhost:8080/",
          "height": 434
        },
        "id": "fDNR2HqU3xgE",
        "outputId": "12125554-1130-4fc6-eda5-65caaa0d10ea"
      },
      "outputs": [
        {
          "output_type": "display_data",
          "data": {
            "text/plain": [
              "<Figure size 2000x2000 with 1 Axes>"
            ],
            "image/png": "[encoded data removed]"
          },
          "metadata": {}
        }
      ],
      "source": [
        "#Παραθέτουμε σε μορφή διαγραμμάτων τα παραπάνω αποτελέσματα:\n",
        "plt.figure(figsize=(20, 20))\n",
        "_plot(history_myCNN_2, 'myCNN_2', 1, 'adam', '128', '30')"
      ]
    },
    {
      "cell_type": "code",
      "execution_count": null,
      "metadata": {
        "colab": {
          "base_uri": "https://localhost:8080/"
        },
        "id": "Rhm5BlPw329M",
        "outputId": "0a2cfb7f-2972-42eb-8177-a7c9f292d713"
      },
      "outputs": [
        {
          "output_type": "stream",
          "name": "stdout",
          "text": [
            "myCNN_2\n",
            "63/63 [==============================] - 2s 24ms/step - loss: 1.5465 - accuracy: 0.5545\n",
            "loss_myCNN_2 = 1.5465108156204224 accuracy_myCNN_2 = 0.5544999837875366\n"
          ]
        }
      ],
      "source": [
        "print(\"myCNN_2\")\n",
        "loss_myCNN_2, accuracy_myCNN_2 = myCNN_2.evaluate(x_test, y_test_1)\n",
        "print(\"loss_myCNN_2 =\", loss_myCNN_2, \"accuracy_myCNN_2 =\", accuracy_myCNN_2)"
      ]
    },
    {
      "cell_type": "markdown",
      "metadata": {
        "id": "RRt6qA4wAwpf"
      },
      "source": [
        "Προφανώς παρατηρούμε πολύ καλύτερα αποτελέσματα στη 2η περίπτωση και για το λόγο αυτό θα χρησιμοποιήσουμε αυτή στο 2ο Μέρος."
      ]
    },
    {
      "cell_type": "markdown",
      "metadata": {
        "id": "v8rhgSGOV5pm"
      },
      "source": [
        "\n",
        "## Ερώτημα 2\n",
        "---\n",
        "### Βήμα 1: Έλεγχος υπερεκπαίδευσης\n",
        "\n",
        "Για τον καλύτερο συνδυασμό που λάβατε από το Ερώτημα 1 για μοντέλο σας  (**MyCNN**) και μόνο, δοκιμάστε διάφορους συνδυασμούς των ακόλουθων τεχνικών για τον έλεγχο της υπερεκπαίδευσης (overfitting), όπως: \n",
        "\n",
        "- Dropout ([Dropout](https://www.tensorflow.org/tutorials/images/classification#dropout))\n",
        "\n",
        "- Επαύξηση δεδομένων ([Data augmentation](https://www.tensorflow.org/tutorials/images/classification#data_augmentation), [ImageDataGenerator](https://www.tensorflow.org/api_docs/python/tf/keras/preprocessing/image/ImageDataGenerator#class_imagedatagenerator)) \n",
        "\n",
        "\\\\\n",
        ", ώστε το μοντέλο σας να γενικεύει καλύτερα.\n",
        "\n",
        "---\n",
        "### Βήμα 2: Αξιολόγηση\n",
        "Αξιολογήστε της ορθότητας για το validation και το test set σας."
      ]
    },
    {
      "cell_type": "markdown",
      "metadata": {
        "id": "3SPwo_iBgK5u"
      },
      "source": [
        "θα χρησιμοποιήσουμε Dropout με αυξανόμενο **p** καθώς αυξάντονται οι παράμετροι στα layers (καθώς όσο αυξάνονται οι παράμετροι τόσο πιο εύκολα κάνει overfit το αντίστοιχο layer).\n",
        "\n"
      ]
    },
    {
      "cell_type": "markdown",
      "metadata": {
        "id": "fManXUGTjH9Q"
      },
      "source": [
        "<h1> Πείραμα 1ο </h1>"
      ]
    },
    {
      "cell_type": "markdown",
      "metadata": {
        "id": "sLlx0fDit2Pr"
      },
      "source": [
        "<h2> Data Augmentation </h2>"
      ]
    },
    {
      "cell_type": "code",
      "execution_count": null,
      "metadata": {
        "id": "Cqj5A5Cxt1vp"
      },
      "outputs": [],
      "source": [
        "# from keras.preprocessing.image import ImageDataGenerator\n",
        "\n",
        "# datagen = ImageDataGenerator(\n",
        "#                     rotation_range=20,\n",
        "#                     horizontal_flip=True,\n",
        "#                     zoom_range=0.3\n",
        "#                     )\n",
        "# # datagen.fit(x_train)\n",
        "\n",
        "from keras.utils import np_utils\n",
        "classes_num = 20\n",
        "# data augmentation\n",
        "y_train_categ = np_utils.to_categorical(y_train_1, classes_num)\n",
        "y_test_categ = np_utils.to_categorical(y_test_1, classes_num)\n",
        "y_val_categ = np_utils.to_categorical(y_val_1, classes_num)\n",
        "\n",
        "# define a  data generator for train and validation set\n",
        "datagen = tf.keras.preprocessing.image.ImageDataGenerator(\n",
        "    # featurewise_center=True,\n",
        "    # featurewise_std_normalization=True,\n",
        "    rotation_range=10,\n",
        "    # width_shift_range=0.1,\n",
        "    # height_shift_range=0.1,\n",
        "    horizontal_flip=True,\n",
        "    zoom_range=0.2)\n",
        "\n",
        "# define a data generator for test set\n",
        "# test_datagen = tf.keras.preprocessing.image.ImageDataGenerator(rescale=1./255)\n",
        "\n",
        "# compute quantities required for featurewise normalization\n",
        "# (std, mean, and principal components if ZCA whitening is applied)\n",
        "# data_gen.fit(x_train)"
      ]
    },
    {
      "cell_type": "markdown",
      "metadata": {
        "id": "ltQ5wxqYnvXd"
      },
      "source": [
        "Προσθέτουμε Dropout με τη λογική που προανέφερα."
      ]
    },
    {
      "cell_type": "code",
      "execution_count": null,
      "metadata": {
        "id": "PCfbQsw6r0xH"
      },
      "outputs": [],
      "source": [
        " \n",
        "def myCNN_LeakyReLU_goodbye_overfitting():\n",
        "  model = tf.keras.models.Sequential()\n",
        "  model.add(layers.experimental.preprocessing.Resizing(224, 224, interpolation=\"bicubic\", input_shape=x_train.shape[1:]))\n",
        "  model.add(layers.Conv2D(50, (9, 9), input_shape=(224, 224, 3)))\n",
        "  model.add(layers.LeakyReLU(alpha=0))    \n",
        "  model.add(layers.MaxPooling2D((2, 2)))\n",
        "  model.add(layers.Dropout(0.05))\n",
        "  model.add(layers.Conv2D(100, (7, 7)))\n",
        "  model.add(layers.Dropout(0.7))\n",
        "  model.add(layers.LeakyReLU(alpha=0))    \n",
        "  model.add(layers.MaxPooling2D((2, 2)))\n",
        "  model.add(vgg_block_new(2, 150, 5))\n",
        "  model.add(layers.Dropout(0.1))\n",
        "  model.add(vgg_block_new(3, 250, 3))\n",
        "  model.add(layers.Dropout(0.14))\n",
        "\n",
        "  model.add(layers.Flatten())\n",
        "  model.add(layers.Dense(4096))\n",
        "  model.add(layers.Dropout(0.18))\n",
        "  model.add(layers.LeakyReLU(alpha=0))    \n",
        "  model.add(layers.Dense(2048))\n",
        "  model.add(layers.Dropout(0.2))\n",
        "  model.add(layers.Dense(20, activation='softmax'))\n",
        "  return model\n"
      ]
    },
    {
      "cell_type": "code",
      "execution_count": null,
      "metadata": {
        "colab": {
          "base_uri": "https://localhost:8080/"
        },
        "id": "3oXJDOB0uFMw",
        "outputId": "59648b96-52e8-402c-94d7-1419213de893"
      },
      "outputs": [
        {
          "output_type": "stream",
          "name": "stdout",
          "text": [
            "Model: \"sequential_27\"\n",
            "_________________________________________________________________\n",
            " Layer (type)                Output Shape              Param #   \n",
            "=================================================================\n",
            " resizing_8 (Resizing)       (None, 224, 224, 3)       0         \n",
            "                                                                 \n",
            " conv2d_56 (Conv2D)          (None, 216, 216, 50)      12200     \n",
            "                                                                 \n",
            " leaky_re_lu_22 (LeakyReLU)  (None, 216, 216, 50)      0         \n",
            "                                                                 \n",
            " max_pooling2d_30 (MaxPoolin  (None, 108, 108, 50)     0         \n",
            " g2D)                                                            \n",
            "                                                                 \n",
            " dropout_17 (Dropout)        (None, 108, 108, 50)      0         \n",
            "                                                                 \n",
            " conv2d_57 (Conv2D)          (None, 102, 102, 100)     245100    \n",
            "                                                                 \n",
            " dropout_18 (Dropout)        (None, 102, 102, 100)     0         \n",
            "                                                                 \n",
            " leaky_re_lu_23 (LeakyReLU)  (None, 102, 102, 100)     0         \n",
            "                                                                 \n",
            " max_pooling2d_31 (MaxPoolin  (None, 51, 51, 100)      0         \n",
            " g2D)                                                            \n",
            "                                                                 \n",
            " sequential_28 (Sequential)  (None, 25, 25, 150)       939000    \n",
            "                                                                 \n",
            " dropout_19 (Dropout)        (None, 25, 25, 150)       0         \n",
            "                                                                 \n",
            " sequential_29 (Sequential)  (None, 12, 12, 250)       1466250   \n",
            "                                                                 \n",
            " dropout_20 (Dropout)        (None, 12, 12, 250)       0         \n",
            "                                                                 \n",
            " flatten_11 (Flatten)        (None, 36000)             0         \n",
            "                                                                 \n",
            " dense_33 (Dense)            (None, 4096)              147460096 \n",
            "                                                                 \n",
            " dropout_21 (Dropout)        (None, 4096)              0         \n",
            "                                                                 \n",
            " leaky_re_lu_29 (LeakyReLU)  (None, 4096)              0         \n",
            "                                                                 \n",
            " dense_34 (Dense)            (None, 2048)              8390656   \n",
            "                                                                 \n",
            " dropout_22 (Dropout)        (None, 2048)              0         \n",
            "                                                                 \n",
            " dense_35 (Dense)            (None, 20)                40980     \n",
            "                                                                 \n",
            "=================================================================\n",
            "Total params: 158,554,282\n",
            "Trainable params: 158,552,182\n",
            "Non-trainable params: 2,100\n",
            "_________________________________________________________________\n"
          ]
        }
      ],
      "source": [
        "my_CNN_gb_overfit_1 = myCNN_LeakyReLU_goodbye_overfitting()\n",
        "\n",
        "my_CNN_gb_overfit_1.compile(optimizer='adagrad',\n",
        "             loss=tf.keras.losses.SparseCategoricalCrossentropy(from_logits=False),\n",
        "              metrics=['accuracy'])\n",
        "\n",
        "my_CNN_gb_overfit_1.summary()"
      ]
    },
    {
      "cell_type": "code",
      "execution_count": null,
      "metadata": {
        "colab": {
          "base_uri": "https://localhost:8080/"
        },
        "id": "aZkVQFGCuU1T",
        "outputId": "3dbc5bb5-93d0-4399-bc70-e69a41c08d9f"
      },
      "outputs": [
        {
          "output_type": "stream",
          "name": "stdout",
          "text": [
            "Epoch 1/60\n",
            "85/85 [==============================] - 101s 916ms/step - loss: 3.7740 - accuracy: 0.2401 - val_loss: 3.6352 - val_accuracy: 0.0587\n",
            "Epoch 2/60\n",
            "85/85 [==============================] - 76s 898ms/step - loss: 2.2665 - accuracy: 0.3491 - val_loss: 4.6151 - val_accuracy: 0.0673\n",
            "Epoch 3/60\n",
            "85/85 [==============================] - 76s 899ms/step - loss: 2.0207 - accuracy: 0.4006 - val_loss: 4.6197 - val_accuracy: 0.0713\n",
            "Epoch 4/60\n",
            "85/85 [==============================] - 76s 896ms/step - loss: 1.8454 - accuracy: 0.4341 - val_loss: 4.1918 - val_accuracy: 0.0933\n",
            "Epoch 5/60\n",
            "85/85 [==============================] - 76s 899ms/step - loss: 1.7476 - accuracy: 0.4646 - val_loss: 4.8702 - val_accuracy: 0.0947\n",
            "Epoch 6/60\n",
            "85/85 [==============================] - 76s 897ms/step - loss: 1.6571 - accuracy: 0.4815 - val_loss: 3.9665 - val_accuracy: 0.1340\n",
            "Epoch 7/60\n",
            "85/85 [==============================] - 76s 895ms/step - loss: 1.5886 - accuracy: 0.5062 - val_loss: 3.8662 - val_accuracy: 0.1400\n",
            "Epoch 8/60\n",
            "85/85 [==============================] - 76s 898ms/step - loss: 1.5305 - accuracy: 0.5178 - val_loss: 4.1853 - val_accuracy: 0.1087\n",
            "Epoch 9/60\n",
            "85/85 [==============================] - 76s 897ms/step - loss: 1.4534 - accuracy: 0.5476 - val_loss: 3.6632 - val_accuracy: 0.1533\n",
            "Epoch 10/60\n",
            "85/85 [==============================] - 76s 896ms/step - loss: 1.4062 - accuracy: 0.5547 - val_loss: 3.9475 - val_accuracy: 0.1553\n",
            "Epoch 11/60\n",
            "85/85 [==============================] - 76s 894ms/step - loss: 1.3468 - accuracy: 0.5715 - val_loss: 3.9050 - val_accuracy: 0.1260\n",
            "Epoch 12/60\n",
            "85/85 [==============================] - 76s 897ms/step - loss: 1.3218 - accuracy: 0.5756 - val_loss: 3.9731 - val_accuracy: 0.1453\n",
            "Epoch 13/60\n",
            "85/85 [==============================] - 76s 898ms/step - loss: 1.2748 - accuracy: 0.5933 - val_loss: 4.1182 - val_accuracy: 0.1600\n",
            "Epoch 14/60\n",
            "85/85 [==============================] - 76s 896ms/step - loss: 1.2189 - accuracy: 0.6093 - val_loss: 3.9050 - val_accuracy: 0.1747\n",
            "Epoch 15/60\n",
            "85/85 [==============================] - 76s 897ms/step - loss: 1.1901 - accuracy: 0.6228 - val_loss: 3.6070 - val_accuracy: 0.1700\n",
            "Epoch 16/60\n",
            "85/85 [==============================] - 76s 896ms/step - loss: 1.1434 - accuracy: 0.6312 - val_loss: 4.0345 - val_accuracy: 0.1527\n",
            "Epoch 17/60\n",
            "85/85 [==============================] - 76s 898ms/step - loss: 1.1136 - accuracy: 0.6453 - val_loss: 3.8946 - val_accuracy: 0.1620\n",
            "Epoch 18/60\n",
            "85/85 [==============================] - 76s 894ms/step - loss: 1.0852 - accuracy: 0.6495 - val_loss: 3.9250 - val_accuracy: 0.1680\n",
            "Epoch 19/60\n",
            "85/85 [==============================] - 76s 895ms/step - loss: 1.0440 - accuracy: 0.6640 - val_loss: 4.0904 - val_accuracy: 0.1533\n",
            "Epoch 20/60\n",
            "85/85 [==============================] - 76s 898ms/step - loss: 1.0128 - accuracy: 0.6740 - val_loss: 4.0451 - val_accuracy: 0.1753\n",
            "Epoch 21/60\n",
            "85/85 [==============================] - 76s 896ms/step - loss: 0.9866 - accuracy: 0.6845 - val_loss: 3.8998 - val_accuracy: 0.1787\n",
            "Epoch 22/60\n",
            "85/85 [==============================] - 76s 894ms/step - loss: 0.9484 - accuracy: 0.6932 - val_loss: 3.9459 - val_accuracy: 0.1847\n",
            "Epoch 23/60\n",
            "85/85 [==============================] - 76s 894ms/step - loss: 0.9271 - accuracy: 0.7009 - val_loss: 3.6086 - val_accuracy: 0.1933\n",
            "Epoch 24/60\n",
            "85/85 [==============================] - 76s 895ms/step - loss: 0.8959 - accuracy: 0.7101 - val_loss: 3.8999 - val_accuracy: 0.1733\n",
            "Epoch 25/60\n",
            "85/85 [==============================] - 76s 895ms/step - loss: 0.8768 - accuracy: 0.7165 - val_loss: 4.0441 - val_accuracy: 0.1853\n",
            "Epoch 26/60\n",
            "85/85 [==============================] - 76s 894ms/step - loss: 0.8635 - accuracy: 0.7145 - val_loss: 4.2339 - val_accuracy: 0.1780\n",
            "Epoch 27/60\n",
            "85/85 [==============================] - 76s 897ms/step - loss: 0.8304 - accuracy: 0.7289 - val_loss: 4.4317 - val_accuracy: 0.1747\n",
            "Epoch 28/60\n",
            "85/85 [==============================] - 76s 894ms/step - loss: 0.7899 - accuracy: 0.7479 - val_loss: 4.0545 - val_accuracy: 0.1947\n",
            "Epoch 29/60\n",
            "85/85 [==============================] - 76s 894ms/step - loss: 0.7774 - accuracy: 0.7519 - val_loss: 3.8717 - val_accuracy: 0.1960\n",
            "Epoch 30/60\n",
            "85/85 [==============================] - 76s 894ms/step - loss: 0.7669 - accuracy: 0.7487 - val_loss: 4.1385 - val_accuracy: 0.1800\n",
            "Epoch 31/60\n",
            "85/85 [==============================] - 76s 896ms/step - loss: 0.7263 - accuracy: 0.7640 - val_loss: 3.7676 - val_accuracy: 0.2073\n",
            "Epoch 32/60\n",
            "85/85 [==============================] - 76s 898ms/step - loss: 0.7140 - accuracy: 0.7691 - val_loss: 4.2884 - val_accuracy: 0.1767\n",
            "Epoch 33/60\n",
            "85/85 [==============================] - 76s 896ms/step - loss: 0.6887 - accuracy: 0.7731 - val_loss: 4.0953 - val_accuracy: 0.2007\n",
            "Epoch 34/60\n",
            "85/85 [==============================] - 76s 899ms/step - loss: 0.6701 - accuracy: 0.7827 - val_loss: 3.9289 - val_accuracy: 0.2073\n",
            "Epoch 35/60\n",
            "85/85 [==============================] - 76s 894ms/step - loss: 0.6490 - accuracy: 0.7925 - val_loss: 3.7929 - val_accuracy: 0.1920\n",
            "Epoch 36/60\n",
            "85/85 [==============================] - 76s 898ms/step - loss: 0.6329 - accuracy: 0.7972 - val_loss: 4.0467 - val_accuracy: 0.2147\n",
            "Epoch 37/60\n",
            "85/85 [==============================] - 76s 895ms/step - loss: 0.6107 - accuracy: 0.8022 - val_loss: 4.1124 - val_accuracy: 0.1987\n",
            "Epoch 38/60\n",
            "85/85 [==============================] - 76s 898ms/step - loss: 0.5999 - accuracy: 0.8053 - val_loss: 3.7944 - val_accuracy: 0.2147\n",
            "Epoch 39/60\n",
            "85/85 [==============================] - 76s 895ms/step - loss: 0.5668 - accuracy: 0.8186 - val_loss: 3.8387 - val_accuracy: 0.2240\n",
            "Epoch 40/60\n",
            "85/85 [==============================] - 76s 895ms/step - loss: 0.5631 - accuracy: 0.8191 - val_loss: 4.2320 - val_accuracy: 0.1967\n",
            "Epoch 41/60\n",
            "85/85 [==============================] - 76s 892ms/step - loss: 0.5463 - accuracy: 0.8220 - val_loss: 3.8674 - val_accuracy: 0.2067\n",
            "Epoch 42/60\n",
            "85/85 [==============================] - 76s 894ms/step - loss: 0.5319 - accuracy: 0.8275 - val_loss: 4.3226 - val_accuracy: 0.2000\n",
            "Epoch 43/60\n",
            "85/85 [==============================] - 76s 895ms/step - loss: 0.5060 - accuracy: 0.8366 - val_loss: 4.0670 - val_accuracy: 0.2147\n",
            "Epoch 44/60\n",
            "85/85 [==============================] - 76s 892ms/step - loss: 0.5072 - accuracy: 0.8374 - val_loss: 4.1221 - val_accuracy: 0.1993\n",
            "Epoch 45/60\n",
            "85/85 [==============================] - 76s 896ms/step - loss: 0.4928 - accuracy: 0.8401 - val_loss: 3.7653 - val_accuracy: 0.2307\n",
            "Epoch 46/60\n",
            "85/85 [==============================] - 76s 895ms/step - loss: 0.4710 - accuracy: 0.8478 - val_loss: 4.1052 - val_accuracy: 0.2127\n",
            "Epoch 47/60\n",
            "85/85 [==============================] - 76s 897ms/step - loss: 0.4591 - accuracy: 0.8556 - val_loss: 4.0578 - val_accuracy: 0.2207\n",
            "Epoch 48/60\n",
            "85/85 [==============================] - 76s 899ms/step - loss: 0.4588 - accuracy: 0.8538 - val_loss: 4.0917 - val_accuracy: 0.1953\n",
            "Epoch 49/60\n",
            "85/85 [==============================] - 76s 898ms/step - loss: 0.4498 - accuracy: 0.8586 - val_loss: 3.9826 - val_accuracy: 0.2140\n",
            "Epoch 50/60\n",
            "85/85 [==============================] - 76s 896ms/step - loss: 0.4188 - accuracy: 0.8705 - val_loss: 3.9492 - val_accuracy: 0.2267\n",
            "Epoch 51/60\n",
            "85/85 [==============================] - 76s 897ms/step - loss: 0.4026 - accuracy: 0.8771 - val_loss: 3.8650 - val_accuracy: 0.2227\n",
            "Epoch 52/60\n",
            "85/85 [==============================] - 76s 898ms/step - loss: 0.3894 - accuracy: 0.8782 - val_loss: 4.1621 - val_accuracy: 0.2093\n",
            "Epoch 53/60\n",
            "85/85 [==============================] - 76s 899ms/step - loss: 0.3909 - accuracy: 0.8766 - val_loss: 4.1430 - val_accuracy: 0.2093\n",
            "Epoch 54/60\n",
            "85/85 [==============================] - 76s 898ms/step - loss: 0.3821 - accuracy: 0.8809 - val_loss: 4.0564 - val_accuracy: 0.2180\n",
            "Epoch 55/60\n",
            "85/85 [==============================] - 76s 897ms/step - loss: 0.3662 - accuracy: 0.8861 - val_loss: 3.9832 - val_accuracy: 0.2220\n",
            "Epoch 56/60\n",
            "85/85 [==============================] - 76s 899ms/step - loss: 0.3494 - accuracy: 0.8927 - val_loss: 3.8274 - val_accuracy: 0.2260\n",
            "Epoch 57/60\n",
            "85/85 [==============================] - 76s 896ms/step - loss: 0.3442 - accuracy: 0.8898 - val_loss: 4.0121 - val_accuracy: 0.2213\n",
            "Epoch 58/60\n",
            "85/85 [==============================] - 76s 898ms/step - loss: 0.3403 - accuracy: 0.8975 - val_loss: 4.0454 - val_accuracy: 0.2180\n",
            "Epoch 59/60\n",
            "85/85 [==============================] - 76s 897ms/step - loss: 0.3222 - accuracy: 0.9014 - val_loss: 3.8768 - val_accuracy: 0.2473\n",
            "Epoch 60/60\n",
            "85/85 [==============================] - 76s 896ms/step - loss: 0.3050 - accuracy: 0.9086 - val_loss: 4.1479 - val_accuracy: 0.2213\n"
          ]
        }
      ],
      "source": [
        "from keras.utils import np_utils\n",
        "\n",
        "# y_train_categ = np_utils.to_categorical(y_train_1, 20)\n",
        "# y_test_categ = np_utils.to_categorical(y_test_1, 20)\n",
        "# y_val_categ = np_utils.to_categorical(y_val_1, 20)\n",
        "\n",
        "# datagen.fit(x_train)\n",
        "\n",
        "#real time data augmentation:\n",
        "history_my_CNN_gb_overfit_1 = my_CNN_gb_overfit_1.fit(datagen.flow(x_train, y_train_1, batch_size=100), steps_per_epoch=len(x_train)/100, epochs=60, validation_data = datagen.flow(x_val, y_val_1, batch_size=8), validation_steps = len(x_val)/8)\n",
        "\n"
      ]
    },
    {
      "cell_type": "markdown",
      "metadata": {
        "id": "jTxKRNEHWfGs"
      },
      "source": [
        "## Ερώτημα 3\n",
        "---\n",
        "### Βήμα 1: Μεταφορά γνώσης\n",
        "Εφαρμόστε μεταφορά γνώσης (transfer learning) στο δικό σας μοντέλο (**MyCNN**), που αξιολογήσατε ως καλύτερο προς την ορθότητα στην αντιμετώπιση της υπερεκπαίδεσης. \n",
        "\n",
        "Για το transfer learning, επιλέξτε το [VGG19](https://www.tensorflow.org/api_docs/python/tf/keras/applications/vgg19)  και το [EfficientNetB0](https://www.tensorflow.org/api_docs/python/tf/keras/applications/efficientnet/EfficientNetB0) για μεταφορά μάθησης.\n",
        "\n",
        "1. \"Παγώστε\" τη συνελικτική βάση και εκπαιδεύστε την κεφαλή ταξινόμησης (classification head - σημαία trainable = False).  \n",
        "\n",
        "2. Εκπαιδέστε μόνο ένα ποσοστό των επιπέδων, το οποίο βρίσκεται προς την έξοδο του δικτύου. Οι σημαίες trainable εδώ θα πρέπει να οριστούν ανά επίπεδο.\n",
        "\n",
        "3. Αξιολογήστε τα αποτελέσματά σας, βάσει της ορθότητας του validation set και του test set σας."
      ]
    },
    {
      "cell_type": "markdown",
      "metadata": {
        "id": "M_T6Y9EJDuOu"
      },
      "source": [
        "## Διαχείριση μνήμης (TFRecord)\n",
        "Η φόρτωση δεδομένων με τον τρόπο που το κάναμε παραπάνω στο απλό παράδειγμα υλοποίησης είναι πολύ βολική αλλά δεν είναι αποτελεσματική ως προς τη διαχείριση της μνήμης. Συγκεκριμένα, με τον τρόπο αυτό, τα δεδομένα αποθηκεύονται απευθείας σε μεταβλητές, οι οποίες όλες μαζί καταλαμβάνουν τη RAM της CPU ή της GPU, κάτι που κάνει αδύνατη τη διαχείριση μεγάλων datasets ή τον μεταχηματισμό των δεδομένων όπως όταν κάνουμε αύξηση δεδομένων (data augmentation).\n",
        "\n",
        "Για να παρακαμφθεί αυτό το πρόβλημα, υπάρχει η δυνατότητα της σειριοποίησης των δεδομένων (serialization) και της αποθήκευσής τους σε αρχεία μεσαίου μεγέθους (κάποιων MB) τα οποία μπορούν να αναγνωστούν γραμμικά.\n",
        "\n",
        "Το φορμάτ TFRecord είναι ένα φορμάτ που επιτρέπει την αποθήκευση σειράς δυαδικών εγγραφών. Διαβάστε σχετικά για το [TFRecord and tf.Example](https://www.tensorflow.org/tutorials/load_data/tfrecord) και [tf.data: Build TensorFlow input pipelines](https://www.tensorflow.org/guide/data). \n",
        "\n",
        "Σημειώστε ότι με τη μέθοδο αυτή θα πρέπει να γίνει import η `tensorflow_datasets` και να χρησιμοποιήσουμε την `tfds.load` ώστε να αποθηκευθεί το σύνολο δεδομένων σε αρχεία tfrecord στο δίσκο (δείτε [εδώ](https://colab.research.google.com/github/tensorflow/datasets/blob/master/docs/overview.ipynb) ένα παράδειγμα). Φυσικά μπορούμε να μετατρέψουμε και τα πρωτογενή δεδομένα (raw data) του dataset όπως αρχεία jpg σε φορματ tfrecord όπως [εδώ](https://towardsdatascience.com/working-with-tfrecords-and-tf-train-example-36d111b3ff4d).\n"
      ]
    }
  ],
  "metadata": {
    "colab": {
      "provenance": [],
      "toc_visible": true
    },
    "kernelspec": {
      "display_name": "Python 3",
      "name": "python3"
    },
    "accelerator": "GPU"
  },
  "nbformat": 4,
  "nbformat_minor": 0
}